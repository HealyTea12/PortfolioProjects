{
 "cells": [
  {
   "cell_type": "code",
   "execution_count": 1,
   "id": "b7dadce8",
   "metadata": {
    "_cell_guid": "b1076dfc-b9ad-4769-8c92-a6c4dae69d19",
    "_uuid": "8f2839f25d086af736a60e9eeb907d3b93b6e0e5",
    "execution": {
     "iopub.execute_input": "2022-03-01T12:35:59.078936Z",
     "iopub.status.busy": "2022-03-01T12:35:59.077675Z",
     "iopub.status.idle": "2022-03-01T12:36:00.254413Z",
     "shell.execute_reply": "2022-03-01T12:36:00.253623Z",
     "shell.execute_reply.started": "2022-03-01T12:29:57.491908Z"
    },
    "papermill": {
     "duration": 1.239022,
     "end_time": "2022-03-01T12:36:00.254600",
     "exception": false,
     "start_time": "2022-03-01T12:35:59.015578",
     "status": "completed"
    },
    "tags": []
   },
   "outputs": [
    {
     "name": "stdout",
     "output_type": "stream",
     "text": [
      "/kaggle/input/titanic/train_and_test2.csv\n",
      "/kaggle/input/c/titanic/train.csv\n",
      "/kaggle/input/c/titanic/test.csv\n",
      "/kaggle/input/c/titanic/gender_submission.csv\n"
     ]
    }
   ],
   "source": [
    "# This Python 3 environment comes with many helpful analytics libraries installed\n",
    "# It is defined by the kaggle/python Docker image: https://github.com/kaggle/docker-python\n",
    "# For example, here's several helpful packages to load\n",
    "\n",
    "import numpy as np # linear algebra\n",
    "import pandas as pd # data processing, CSV file I/O (e.g. pd.read_csv)\n",
    "import math\n",
    "import matplotlib.pyplot as plt\n",
    "import seaborn as sns\n",
    "\n",
    "# Input data files are available in the read-only \"../input/\" directory\n",
    "# For example, running this (by clicking run or pressing Shift+Enter) will list all files under the input directory\n",
    "\n",
    "import os\n",
    "for dirname, _, filenames in os.walk('/kaggle/input'):\n",
    "    for filename in filenames:\n",
    "        print(os.path.join(dirname, filename))\n",
    "\n",
    "# You can write up to 20GB to the current directory (/kaggle/working/) that gets preserved as output when you create a version using \"Save & Run All\" \n",
    "# You can also write temporary files to /kaggle/temp/, but they won't be saved outside of the current session"
   ]
  },
  {
   "cell_type": "markdown",
   "id": "44dd2aa2",
   "metadata": {
    "papermill": {
     "duration": 0.053843,
     "end_time": "2022-03-01T12:36:00.365239",
     "exception": false,
     "start_time": "2022-03-01T12:36:00.311396",
     "status": "completed"
    },
    "tags": []
   },
   "source": [
    "**Importing the data**"
   ]
  },
  {
   "cell_type": "code",
   "execution_count": 2,
   "id": "6570a18c",
   "metadata": {
    "execution": {
     "iopub.execute_input": "2022-03-01T12:36:00.479250Z",
     "iopub.status.busy": "2022-03-01T12:36:00.478512Z",
     "iopub.status.idle": "2022-03-01T12:36:00.529888Z",
     "shell.execute_reply": "2022-03-01T12:36:00.529128Z",
     "shell.execute_reply.started": "2022-03-01T12:29:57.511634Z"
    },
    "papermill": {
     "duration": 0.111441,
     "end_time": "2022-03-01T12:36:00.530056",
     "exception": false,
     "start_time": "2022-03-01T12:36:00.418615",
     "status": "completed"
    },
    "tags": []
   },
   "outputs": [],
   "source": [
    "import numpy as np\n",
    "import pandas as pd\n",
    "\n",
    "\n",
    "#reading the files and creating a dataframe with both train and test\n",
    "ttest = pd.read_csv(\"/kaggle/input/c/titanic/test.csv\")\n",
    "ttrain = pd.read_csv(\"/kaggle/input/c/titanic/train.csv\")\n",
    "gendersub = pd.read_csv(\"/kaggle/input/c/titanic/gender_submission.csv\")\n",
    "tfull = pd.concat([ttrain,ttest]).reset_index(drop = True)"
   ]
  },
  {
   "cell_type": "markdown",
   "id": "8017ba00",
   "metadata": {
    "papermill": {
     "duration": 0.054849,
     "end_time": "2022-03-01T12:36:00.638630",
     "exception": false,
     "start_time": "2022-03-01T12:36:00.583781",
     "status": "completed"
    },
    "tags": []
   },
   "source": [
    " # Initial look:"
   ]
  },
  {
   "cell_type": "code",
   "execution_count": 3,
   "id": "61374ada",
   "metadata": {
    "execution": {
     "iopub.execute_input": "2022-03-01T12:36:00.763065Z",
     "iopub.status.busy": "2022-03-01T12:36:00.762277Z",
     "iopub.status.idle": "2022-03-01T12:36:00.817577Z",
     "shell.execute_reply": "2022-03-01T12:36:00.816694Z",
     "shell.execute_reply.started": "2022-03-01T12:29:57.537611Z"
    },
    "papermill": {
     "duration": 0.118609,
     "end_time": "2022-03-01T12:36:00.817825",
     "exception": false,
     "start_time": "2022-03-01T12:36:00.699216",
     "status": "completed"
    },
    "tags": []
   },
   "outputs": [
    {
     "name": "stdout",
     "output_type": "stream",
     "text": [
      "   PassengerId  Survived  Pclass  \\\n",
      "0            1         0       3   \n",
      "1            2         1       1   \n",
      "2            3         1       3   \n",
      "3            4         1       1   \n",
      "4            5         0       3   \n",
      "\n",
      "                                                Name     Sex   Age  SibSp  \\\n",
      "0                            Braund, Mr. Owen Harris    male  22.0      1   \n",
      "1  Cumings, Mrs. John Bradley (Florence Briggs Th...  female  38.0      1   \n",
      "2                             Heikkinen, Miss. Laina  female  26.0      0   \n",
      "3       Futrelle, Mrs. Jacques Heath (Lily May Peel)  female  35.0      1   \n",
      "4                           Allen, Mr. William Henry    male  35.0      0   \n",
      "\n",
      "   Parch            Ticket     Fare Cabin Embarked  \n",
      "0      0         A/5 21171   7.2500   NaN        S  \n",
      "1      0          PC 17599  71.2833   C85        C  \n",
      "2      0  STON/O2. 3101282   7.9250   NaN        S  \n",
      "3      0            113803  53.1000  C123        S  \n",
      "4      0            373450   8.0500   NaN        S  \n",
      "<class 'pandas.core.frame.DataFrame'>\n",
      "RangeIndex: 891 entries, 0 to 890\n",
      "Data columns (total 12 columns):\n",
      " #   Column       Non-Null Count  Dtype  \n",
      "---  ------       --------------  -----  \n",
      " 0   PassengerId  891 non-null    int64  \n",
      " 1   Survived     891 non-null    int64  \n",
      " 2   Pclass       891 non-null    int64  \n",
      " 3   Name         891 non-null    object \n",
      " 4   Sex          891 non-null    object \n",
      " 5   Age          714 non-null    float64\n",
      " 6   SibSp        891 non-null    int64  \n",
      " 7   Parch        891 non-null    int64  \n",
      " 8   Ticket       891 non-null    object \n",
      " 9   Fare         891 non-null    float64\n",
      " 10  Cabin        204 non-null    object \n",
      " 11  Embarked     889 non-null    object \n",
      "dtypes: float64(2), int64(5), object(5)\n",
      "memory usage: 83.7+ KB\n",
      "None\n",
      "Index(['PassengerId', 'Survived', 'Pclass', 'Name', 'Sex', 'Age', 'SibSp',\n",
      "       'Parch', 'Ticket', 'Fare', 'Cabin', 'Embarked'],\n",
      "      dtype='object')\n",
      "       PassengerId    Survived      Pclass         Age       SibSp  \\\n",
      "count   891.000000  891.000000  891.000000  714.000000  891.000000   \n",
      "mean    446.000000    0.383838    2.308642   29.699118    0.523008   \n",
      "std     257.353842    0.486592    0.836071   14.526497    1.102743   \n",
      "min       1.000000    0.000000    1.000000    0.420000    0.000000   \n",
      "25%     223.500000    0.000000    2.000000   20.125000    0.000000   \n",
      "50%     446.000000    0.000000    3.000000   28.000000    0.000000   \n",
      "75%     668.500000    1.000000    3.000000   38.000000    1.000000   \n",
      "max     891.000000    1.000000    3.000000   80.000000    8.000000   \n",
      "\n",
      "            Parch        Fare  \n",
      "count  891.000000  891.000000  \n",
      "mean     0.381594   32.204208  \n",
      "std      0.806057   49.693429  \n",
      "min      0.000000    0.000000  \n",
      "25%      0.000000    7.910400  \n",
      "50%      0.000000   14.454200  \n",
      "75%      0.000000   31.000000  \n",
      "max      6.000000  512.329200  \n"
     ]
    }
   ],
   "source": [
    "print(ttrain.head())\n",
    "print(ttrain.info())\n",
    "print(ttrain.columns)\n",
    "print(ttrain.describe())"
   ]
  },
  {
   "cell_type": "markdown",
   "id": "87401895",
   "metadata": {
    "papermill": {
     "duration": 0.059394,
     "end_time": "2022-03-01T12:36:00.936599",
     "exception": false,
     "start_time": "2022-03-01T12:36:00.877205",
     "status": "completed"
    },
    "tags": []
   },
   "source": []
  },
  {
   "cell_type": "markdown",
   "id": "3ea872e7",
   "metadata": {
    "papermill": {
     "duration": 0.054593,
     "end_time": "2022-03-01T12:36:01.045911",
     "exception": false,
     "start_time": "2022-03-01T12:36:00.991318",
     "status": "completed"
    },
    "tags": []
   },
   "source": [
    "probably useless util func but I'm scared of deleting functions"
   ]
  },
  {
   "cell_type": "code",
   "execution_count": 4,
   "id": "9bad5527",
   "metadata": {
    "execution": {
     "iopub.execute_input": "2022-03-01T12:36:01.161664Z",
     "iopub.status.busy": "2022-03-01T12:36:01.160510Z",
     "iopub.status.idle": "2022-03-01T12:36:01.163756Z",
     "shell.execute_reply": "2022-03-01T12:36:01.163190Z",
     "shell.execute_reply.started": "2022-03-01T12:29:57.574506Z"
    },
    "papermill": {
     "duration": 0.063067,
     "end_time": "2022-03-01T12:36:01.163919",
     "exception": false,
     "start_time": "2022-03-01T12:36:01.100852",
     "status": "completed"
    },
    "tags": []
   },
   "outputs": [],
   "source": [
    "def n_unique(df, col):\n",
    "    return len(df[col].unique())"
   ]
  },
  {
   "cell_type": "code",
   "execution_count": 5,
   "id": "3856616e",
   "metadata": {
    "execution": {
     "iopub.execute_input": "2022-03-01T12:36:01.284441Z",
     "iopub.status.busy": "2022-03-01T12:36:01.283573Z",
     "iopub.status.idle": "2022-03-01T12:36:01.286015Z",
     "shell.execute_reply": "2022-03-01T12:36:01.285278Z",
     "shell.execute_reply.started": "2022-03-01T12:29:57.579780Z"
    },
    "papermill": {
     "duration": 0.067678,
     "end_time": "2022-03-01T12:36:01.286166",
     "exception": false,
     "start_time": "2022-03-01T12:36:01.218488",
     "status": "completed"
    },
    "tags": []
   },
   "outputs": [],
   "source": [
    "#Define what columns are numerical. The rest is assigned as categorical.\n",
    "#The numerical columns that have few distinct values get a categorical version.\n",
    "#The reason for that is for the graphs. You'll see later\n",
    "numerical = {'Age','Fare','SibSp', 'Parch'}\n",
    "categorical = set(ttrain.columns).difference(numerical)\n",
    "cat_and_num = set()\n",
    "for col in numerical:\n",
    "    if(n_unique(ttrain,col) < 10):\n",
    "        cat_and_num.add(col)\n",
    "\n",
    "#splitting the data to apply the describe function\n",
    "ttrain_num = ttrain[numerical]\n",
    "ttrain_cat = ttrain[categorical]"
   ]
  },
  {
   "cell_type": "code",
   "execution_count": 6,
   "id": "ffe70341",
   "metadata": {
    "execution": {
     "iopub.execute_input": "2022-03-01T12:36:01.409896Z",
     "iopub.status.busy": "2022-03-01T12:36:01.409058Z",
     "iopub.status.idle": "2022-03-01T12:36:01.454789Z",
     "shell.execute_reply": "2022-03-01T12:36:01.455574Z",
     "shell.execute_reply.started": "2022-03-01T12:29:57.591969Z"
    },
    "papermill": {
     "duration": 0.112767,
     "end_time": "2022-03-01T12:36:01.455841",
     "exception": false,
     "start_time": "2022-03-01T12:36:01.343074",
     "status": "completed"
    },
    "tags": []
   },
   "outputs": [
    {
     "name": "stdout",
     "output_type": "stream",
     "text": [
      "             Fare       Parch         Age       SibSp\n",
      "count  891.000000  891.000000  714.000000  891.000000\n",
      "mean    32.204208    0.381594   29.699118    0.523008\n",
      "std     49.693429    0.806057   14.526497    1.102743\n",
      "min      0.000000    0.000000    0.420000    0.000000\n",
      "25%      7.910400    0.000000   20.125000    0.000000\n",
      "50%     14.454200    0.000000   28.000000    0.000000\n",
      "75%     31.000000    0.000000   38.000000    1.000000\n",
      "max    512.329200    6.000000   80.000000    8.000000\n",
      "\n",
      "\n",
      "                       Name        Cabin Ticket  Survived   Sex  PassengerId  \\\n",
      "count                   891          204    891       891   891          891   \n",
      "unique                  891          147    681         2     2          891   \n",
      "top     Abbing, Mr. Anthony  C23 C25 C27   1601         0  male            1   \n",
      "freq                      1            4      7       549   577            1   \n",
      "\n",
      "        Pclass Embarked  \n",
      "count      891      889  \n",
      "unique       3        3  \n",
      "top          3        S  \n",
      "freq       491      644  \n"
     ]
    }
   ],
   "source": [
    "print(ttrain_num.describe())\n",
    "print('\\n')\n",
    "print(ttrain_cat.astype('category').describe())"
   ]
  },
  {
   "cell_type": "markdown",
   "id": "20f34992",
   "metadata": {
    "papermill": {
     "duration": 0.054031,
     "end_time": "2022-03-01T12:36:01.565275",
     "exception": false,
     "start_time": "2022-03-01T12:36:01.511244",
     "status": "completed"
    },
    "tags": []
   },
   "source": [
    "# Now we will try to extract info from the weird columns: Name, Ticket, Cabin.\n",
    "Starting with Name:"
   ]
  },
  {
   "cell_type": "code",
   "execution_count": 7,
   "id": "61084283",
   "metadata": {
    "execution": {
     "iopub.execute_input": "2022-03-01T12:36:01.678977Z",
     "iopub.status.busy": "2022-03-01T12:36:01.678172Z",
     "iopub.status.idle": "2022-03-01T12:36:01.681274Z",
     "shell.execute_reply": "2022-03-01T12:36:01.680699Z",
     "shell.execute_reply.started": "2022-03-01T12:29:57.646896Z"
    },
    "papermill": {
     "duration": 0.061974,
     "end_time": "2022-03-01T12:36:01.681429",
     "exception": false,
     "start_time": "2022-03-01T12:36:01.619455",
     "status": "completed"
    },
    "tags": []
   },
   "outputs": [],
   "source": [
    "#printing the names to figure out if there is anything to do with them\n",
    "#np.sort(ttrain['Name'].unique())"
   ]
  },
  {
   "cell_type": "markdown",
   "id": "0d94597c",
   "metadata": {
    "papermill": {
     "duration": 0.053531,
     "end_time": "2022-03-01T12:36:01.789072",
     "exception": false,
     "start_time": "2022-03-01T12:36:01.735541",
     "status": "completed"
    },
    "tags": []
   },
   "source": [
    "Looks like they are on the form '{name}, {Title} {last_name...} ({real_name}) \"{nick_name}\"\n",
    "Lets separate them cause we might as well. #The column names are all camelcase so ill just keep it like that."
   ]
  },
  {
   "cell_type": "code",
   "execution_count": 8,
   "id": "ff847d59",
   "metadata": {
    "execution": {
     "iopub.execute_input": "2022-03-01T12:36:01.907902Z",
     "iopub.status.busy": "2022-03-01T12:36:01.906723Z",
     "iopub.status.idle": "2022-03-01T12:36:01.910579Z",
     "shell.execute_reply": "2022-03-01T12:36:01.909919Z",
     "shell.execute_reply.started": "2022-03-01T12:29:57.659267Z"
    },
    "papermill": {
     "duration": 0.067417,
     "end_time": "2022-03-01T12:36:01.910726",
     "exception": false,
     "start_time": "2022-03-01T12:36:01.843309",
     "status": "completed"
    },
    "tags": []
   },
   "outputs": [],
   "source": [
    "# Hwere we define some functions that we will apply to the Name column to get specific parts. Apo = Apostrophe, Par = Parenthesis\n",
    "\n",
    "def parsep(x):\n",
    "    if '(' in x and ')' in x:\n",
    "        return x.split('(')[1].split(')')[0]\n",
    "    else:\n",
    "        return None\n",
    "    \n",
    "def aposep(x):\n",
    "    if '\"' in x:\n",
    "        return x.split('\"')[1].split('\"')[0]\n",
    "    else:\n",
    "        return None\n",
    "\n",
    "def gensep(string, suba, subb):\n",
    "    for a in suba:\n",
    "        for b in subb:\n",
    "            if a in string and b in string:\n",
    "                return string.split(a)[1].split(b)[0]\n",
    "    for a in suba:\n",
    "        if a in string:\n",
    "            return string.split(a)[1]\n",
    "    \n",
    "    for b in subb:\n",
    "        return string.split(b)[0]\n",
    "            \n"
   ]
  },
  {
   "cell_type": "code",
   "execution_count": 9,
   "id": "11c221d1",
   "metadata": {
    "execution": {
     "iopub.execute_input": "2022-03-01T12:36:02.027238Z",
     "iopub.status.busy": "2022-03-01T12:36:02.026472Z",
     "iopub.status.idle": "2022-03-01T12:36:02.028884Z",
     "shell.execute_reply": "2022-03-01T12:36:02.029383Z",
     "shell.execute_reply.started": "2022-03-01T12:29:57.669041Z"
    },
    "papermill": {
     "duration": 0.063256,
     "end_time": "2022-03-01T12:36:02.029572",
     "exception": false,
     "start_time": "2022-03-01T12:36:01.966316",
     "status": "completed"
    },
    "tags": []
   },
   "outputs": [],
   "source": [
    "#just testing the function\n",
    "#gensep('-hello world-','-','-')\n"
   ]
  },
  {
   "cell_type": "code",
   "execution_count": 10,
   "id": "4eceef49",
   "metadata": {
    "execution": {
     "iopub.execute_input": "2022-03-01T12:36:02.176191Z",
     "iopub.status.busy": "2022-03-01T12:36:02.164940Z",
     "iopub.status.idle": "2022-03-01T12:36:02.189228Z",
     "shell.execute_reply": "2022-03-01T12:36:02.188652Z",
     "shell.execute_reply.started": "2022-03-01T12:29:57.679631Z"
    },
    "papermill": {
     "duration": 0.104671,
     "end_time": "2022-03-01T12:36:02.189380",
     "exception": false,
     "start_time": "2022-03-01T12:36:02.084709",
     "status": "completed"
    },
    "tags": []
   },
   "outputs": [
    {
     "data": {
      "text/html": [
       "<div>\n",
       "<style scoped>\n",
       "    .dataframe tbody tr th:only-of-type {\n",
       "        vertical-align: middle;\n",
       "    }\n",
       "\n",
       "    .dataframe tbody tr th {\n",
       "        vertical-align: top;\n",
       "    }\n",
       "\n",
       "    .dataframe thead th {\n",
       "        text-align: right;\n",
       "    }\n",
       "</style>\n",
       "<table border=\"1\" class=\"dataframe\">\n",
       "  <thead>\n",
       "    <tr style=\"text-align: right;\">\n",
       "      <th></th>\n",
       "      <th>Name</th>\n",
       "      <th>LastName</th>\n",
       "      <th>Title</th>\n",
       "      <th>ParName</th>\n",
       "      <th>ApoName</th>\n",
       "      <th>FirstName</th>\n",
       "    </tr>\n",
       "  </thead>\n",
       "  <tbody>\n",
       "    <tr>\n",
       "      <th>0</th>\n",
       "      <td>Braund, Mr. Owen Harris</td>\n",
       "      <td>Braund</td>\n",
       "      <td>Mr</td>\n",
       "      <td>None</td>\n",
       "      <td>None</td>\n",
       "      <td>Owen Harris</td>\n",
       "    </tr>\n",
       "    <tr>\n",
       "      <th>1</th>\n",
       "      <td>Cumings, Mrs. John Bradley (Florence Briggs Th...</td>\n",
       "      <td>Cumings</td>\n",
       "      <td>Mrs</td>\n",
       "      <td>Florence Briggs Thayer</td>\n",
       "      <td>None</td>\n",
       "      <td>John Bradley</td>\n",
       "    </tr>\n",
       "    <tr>\n",
       "      <th>2</th>\n",
       "      <td>Heikkinen, Miss. Laina</td>\n",
       "      <td>Heikkinen</td>\n",
       "      <td>Miss</td>\n",
       "      <td>None</td>\n",
       "      <td>None</td>\n",
       "      <td>Laina</td>\n",
       "    </tr>\n",
       "    <tr>\n",
       "      <th>3</th>\n",
       "      <td>Futrelle, Mrs. Jacques Heath (Lily May Peel)</td>\n",
       "      <td>Futrelle</td>\n",
       "      <td>Mrs</td>\n",
       "      <td>Lily May Peel</td>\n",
       "      <td>None</td>\n",
       "      <td>Jacques Heath</td>\n",
       "    </tr>\n",
       "    <tr>\n",
       "      <th>4</th>\n",
       "      <td>Allen, Mr. William Henry</td>\n",
       "      <td>Allen</td>\n",
       "      <td>Mr</td>\n",
       "      <td>None</td>\n",
       "      <td>None</td>\n",
       "      <td>William Henry</td>\n",
       "    </tr>\n",
       "    <tr>\n",
       "      <th>...</th>\n",
       "      <td>...</td>\n",
       "      <td>...</td>\n",
       "      <td>...</td>\n",
       "      <td>...</td>\n",
       "      <td>...</td>\n",
       "      <td>...</td>\n",
       "    </tr>\n",
       "    <tr>\n",
       "      <th>886</th>\n",
       "      <td>Montvila, Rev. Juozas</td>\n",
       "      <td>Montvila</td>\n",
       "      <td>Rev</td>\n",
       "      <td>None</td>\n",
       "      <td>None</td>\n",
       "      <td>Juozas</td>\n",
       "    </tr>\n",
       "    <tr>\n",
       "      <th>887</th>\n",
       "      <td>Graham, Miss. Margaret Edith</td>\n",
       "      <td>Graham</td>\n",
       "      <td>Miss</td>\n",
       "      <td>None</td>\n",
       "      <td>None</td>\n",
       "      <td>Margaret Edith</td>\n",
       "    </tr>\n",
       "    <tr>\n",
       "      <th>888</th>\n",
       "      <td>Johnston, Miss. Catherine Helen \"Carrie\"</td>\n",
       "      <td>Johnston</td>\n",
       "      <td>Miss</td>\n",
       "      <td>None</td>\n",
       "      <td>Carrie</td>\n",
       "      <td>Catherine Helen</td>\n",
       "    </tr>\n",
       "    <tr>\n",
       "      <th>889</th>\n",
       "      <td>Behr, Mr. Karl Howell</td>\n",
       "      <td>Behr</td>\n",
       "      <td>Mr</td>\n",
       "      <td>None</td>\n",
       "      <td>None</td>\n",
       "      <td>Karl Howell</td>\n",
       "    </tr>\n",
       "    <tr>\n",
       "      <th>890</th>\n",
       "      <td>Dooley, Mr. Patrick</td>\n",
       "      <td>Dooley</td>\n",
       "      <td>Mr</td>\n",
       "      <td>None</td>\n",
       "      <td>None</td>\n",
       "      <td>Patrick</td>\n",
       "    </tr>\n",
       "  </tbody>\n",
       "</table>\n",
       "<p>891 rows × 6 columns</p>\n",
       "</div>"
      ],
      "text/plain": [
       "                                                  Name   LastName Title  \\\n",
       "0                              Braund, Mr. Owen Harris     Braund    Mr   \n",
       "1    Cumings, Mrs. John Bradley (Florence Briggs Th...    Cumings   Mrs   \n",
       "2                               Heikkinen, Miss. Laina  Heikkinen  Miss   \n",
       "3         Futrelle, Mrs. Jacques Heath (Lily May Peel)   Futrelle   Mrs   \n",
       "4                             Allen, Mr. William Henry      Allen    Mr   \n",
       "..                                                 ...        ...   ...   \n",
       "886                              Montvila, Rev. Juozas   Montvila   Rev   \n",
       "887                       Graham, Miss. Margaret Edith     Graham  Miss   \n",
       "888           Johnston, Miss. Catherine Helen \"Carrie\"   Johnston  Miss   \n",
       "889                              Behr, Mr. Karl Howell       Behr    Mr   \n",
       "890                                Dooley, Mr. Patrick     Dooley    Mr   \n",
       "\n",
       "                    ParName ApoName         FirstName  \n",
       "0                      None    None       Owen Harris  \n",
       "1    Florence Briggs Thayer    None     John Bradley   \n",
       "2                      None    None             Laina  \n",
       "3             Lily May Peel    None    Jacques Heath   \n",
       "4                      None    None     William Henry  \n",
       "..                      ...     ...               ...  \n",
       "886                    None    None            Juozas  \n",
       "887                    None    None    Margaret Edith  \n",
       "888                    None  Carrie  Catherine Helen   \n",
       "889                    None    None       Karl Howell  \n",
       "890                    None    None           Patrick  \n",
       "\n",
       "[891 rows x 6 columns]"
      ]
     },
     "execution_count": 10,
     "metadata": {},
     "output_type": "execute_result"
    }
   ],
   "source": [
    "\n",
    "#getting last name, first name, title, parenthesis name and apostrophe name. \n",
    "ttrain['LastName'] = ttrain['Name'].apply(lambda x: x.split(', ')[0])\n",
    "ttrain['FirstName'] = ttrain['Name'].apply(lambda x: gensep(x, ['. '], ['(','\"']))\n",
    "ttrain['Title'] = ttrain['Name'].apply(lambda x: x.split(', ')[1].split('.')[0])\n",
    "#Name Parenthesis\n",
    "ttrain['ParName'] = ttrain['Name'].apply(parsep)\n",
    "#Name Apostrophe\n",
    "ttrain['ApoName'] = ttrain['Name'].apply(aposep)\n",
    "\n",
    "#doing the same thing for the test part. I know, it's silly, should have done to them combined, but when I first wrote\n",
    "#this part I wasn't thinking about the test set. Neginner mistake I suppose. Or just silliness.\n",
    "ttest['LastName'] = ttest['Name'].apply(lambda x: x.split(', ')[0])\n",
    "ttest['FirstName'] = ttest['Name'].apply(lambda x: gensep(x, ['. '], ['(','\"']))\n",
    "ttest['Title'] = ttest['Name'].apply(lambda x: x.split(', ')[1].split('.')[0])\n",
    "#Name Parenthesis\n",
    "ttest['ParName'] = ttest['Name'].apply(parsep)\n",
    "#Name Apostrophe\n",
    "ttest['ApoName'] = ttest['Name'].apply(aposep)\n",
    "\n",
    "#checking if it worked\n",
    "ttrain[['Name','LastName','Title','ParName','ApoName','FirstName']]\n",
    "#ttrain['Title'].unique()"
   ]
  },
  {
   "cell_type": "code",
   "execution_count": 11,
   "id": "55ef62e6",
   "metadata": {
    "execution": {
     "iopub.execute_input": "2022-03-01T12:36:02.310584Z",
     "iopub.status.busy": "2022-03-01T12:36:02.309713Z",
     "iopub.status.idle": "2022-03-01T12:36:02.314297Z",
     "shell.execute_reply": "2022-03-01T12:36:02.313619Z",
     "shell.execute_reply.started": "2022-03-01T12:29:57.717811Z"
    },
    "papermill": {
     "duration": 0.069129,
     "end_time": "2022-03-01T12:36:02.314489",
     "exception": false,
     "start_time": "2022-03-01T12:36:02.245360",
     "status": "completed"
    },
    "tags": []
   },
   "outputs": [
    {
     "name": "stdout",
     "output_type": "stream",
     "text": [
      "['Mr' 'Mrs' 'Miss' 'Master' 'Don' 'Rev' 'Dr' 'Mme' 'Ms' 'Major' 'Lady'\n",
      " 'Sir' 'Mlle' 'Col' 'Capt' 'the Countess' 'Jonkheer']\n"
     ]
    }
   ],
   "source": [
    "#unique titles\n",
    "print(ttrain['Title'].unique())\n",
    "\n",
    "\n",
    "#creating a SocialH feature. It just tells you if you have a special title.\n",
    "def hierarchy(x):\n",
    "    if x in ['Mr','Mrs','Ms', 'Miss']:\n",
    "        return 'low'\n",
    "    else:\n",
    "        return 'high'\n",
    "    \n",
    "#social hierarchy. \n",
    "ttrain['SocialH'] = ttrain['Title'].apply(hierarchy)\n",
    "ttest['SocialH'] = ttest['Title'].apply(hierarchy)"
   ]
  },
  {
   "cell_type": "markdown",
   "id": "0a10be84",
   "metadata": {
    "papermill": {
     "duration": 0.056729,
     "end_time": "2022-03-01T12:36:02.428160",
     "exception": false,
     "start_time": "2022-03-01T12:36:02.371431",
     "status": "completed"
    },
    "tags": []
   },
   "source": [
    "# Tickets\n",
    "Okay. Now the names are split. Should come back to them afterwards. But first, lets take a look at cabin and ticket."
   ]
  },
  {
   "cell_type": "code",
   "execution_count": 12,
   "id": "850e5680",
   "metadata": {
    "execution": {
     "iopub.execute_input": "2022-03-01T12:36:02.545937Z",
     "iopub.status.busy": "2022-03-01T12:36:02.544855Z",
     "iopub.status.idle": "2022-03-01T12:36:02.548084Z",
     "shell.execute_reply": "2022-03-01T12:36:02.547501Z",
     "shell.execute_reply.started": "2022-03-01T12:29:57.733994Z"
    },
    "papermill": {
     "duration": 0.063561,
     "end_time": "2022-03-01T12:36:02.548242",
     "exception": false,
     "start_time": "2022-03-01T12:36:02.484681",
     "status": "completed"
    },
    "tags": []
   },
   "outputs": [],
   "source": [
    "# As with names, just take a first look at it. The dataset is ont that big so might as well print them all\n",
    "#np.sort(ttrain.Ticket.values)"
   ]
  },
  {
   "cell_type": "markdown",
   "id": "224ec760",
   "metadata": {
    "papermill": {
     "duration": 0.05452,
     "end_time": "2022-03-01T12:36:02.660760",
     "exception": false,
     "start_time": "2022-03-01T12:36:02.606240",
     "status": "completed"
    },
    "tags": []
   },
   "source": [
    "There is a letter part and a number part. Some tickets are the same, presumably because they were bought as a group. We can make a feature out of that. Maybe later figure out the missing cabins? For now, I'm just separating the letter and number parts, though there might be more info contained in the tickets."
   ]
  },
  {
   "cell_type": "code",
   "execution_count": 13,
   "id": "33867d4a",
   "metadata": {
    "execution": {
     "iopub.execute_input": "2022-03-01T12:36:02.795149Z",
     "iopub.status.busy": "2022-03-01T12:36:02.785472Z",
     "iopub.status.idle": "2022-03-01T12:36:02.799323Z",
     "shell.execute_reply": "2022-03-01T12:36:02.798028Z",
     "shell.execute_reply.started": "2022-03-01T12:29:57.745808Z"
    },
    "papermill": {
     "duration": 0.08395,
     "end_time": "2022-03-01T12:36:02.799581",
     "exception": false,
     "start_time": "2022-03-01T12:36:02.715631",
     "status": "completed"
    },
    "tags": []
   },
   "outputs": [
    {
     "data": {
      "text/html": [
       "<div>\n",
       "<style scoped>\n",
       "    .dataframe tbody tr th:only-of-type {\n",
       "        vertical-align: middle;\n",
       "    }\n",
       "\n",
       "    .dataframe tbody tr th {\n",
       "        vertical-align: top;\n",
       "    }\n",
       "\n",
       "    .dataframe thead th {\n",
       "        text-align: right;\n",
       "    }\n",
       "</style>\n",
       "<table border=\"1\" class=\"dataframe\">\n",
       "  <thead>\n",
       "    <tr style=\"text-align: right;\">\n",
       "      <th></th>\n",
       "      <th>Ticket</th>\n",
       "      <th>TicketLP</th>\n",
       "      <th>TicketNP</th>\n",
       "    </tr>\n",
       "  </thead>\n",
       "  <tbody>\n",
       "    <tr>\n",
       "      <th>0</th>\n",
       "      <td>A/5 21171</td>\n",
       "      <td>A/5</td>\n",
       "      <td>21171</td>\n",
       "    </tr>\n",
       "    <tr>\n",
       "      <th>1</th>\n",
       "      <td>PC 17599</td>\n",
       "      <td>PC</td>\n",
       "      <td>17599</td>\n",
       "    </tr>\n",
       "    <tr>\n",
       "      <th>2</th>\n",
       "      <td>STON/O2. 3101282</td>\n",
       "      <td>STON/O2.</td>\n",
       "      <td>3101282</td>\n",
       "    </tr>\n",
       "    <tr>\n",
       "      <th>3</th>\n",
       "      <td>113803</td>\n",
       "      <td></td>\n",
       "      <td>113803</td>\n",
       "    </tr>\n",
       "    <tr>\n",
       "      <th>4</th>\n",
       "      <td>373450</td>\n",
       "      <td></td>\n",
       "      <td>373450</td>\n",
       "    </tr>\n",
       "    <tr>\n",
       "      <th>...</th>\n",
       "      <td>...</td>\n",
       "      <td>...</td>\n",
       "      <td>...</td>\n",
       "    </tr>\n",
       "    <tr>\n",
       "      <th>886</th>\n",
       "      <td>211536</td>\n",
       "      <td></td>\n",
       "      <td>211536</td>\n",
       "    </tr>\n",
       "    <tr>\n",
       "      <th>887</th>\n",
       "      <td>112053</td>\n",
       "      <td></td>\n",
       "      <td>112053</td>\n",
       "    </tr>\n",
       "    <tr>\n",
       "      <th>888</th>\n",
       "      <td>W./C. 6607</td>\n",
       "      <td>W./C.</td>\n",
       "      <td>6607</td>\n",
       "    </tr>\n",
       "    <tr>\n",
       "      <th>889</th>\n",
       "      <td>111369</td>\n",
       "      <td></td>\n",
       "      <td>111369</td>\n",
       "    </tr>\n",
       "    <tr>\n",
       "      <th>890</th>\n",
       "      <td>370376</td>\n",
       "      <td></td>\n",
       "      <td>370376</td>\n",
       "    </tr>\n",
       "  </tbody>\n",
       "</table>\n",
       "<p>891 rows × 3 columns</p>\n",
       "</div>"
      ],
      "text/plain": [
       "               Ticket  TicketLP TicketNP\n",
       "0           A/5 21171       A/5    21171\n",
       "1            PC 17599        PC    17599\n",
       "2    STON/O2. 3101282  STON/O2.  3101282\n",
       "3              113803             113803\n",
       "4              373450             373450\n",
       "..                ...       ...      ...\n",
       "886            211536             211536\n",
       "887            112053             112053\n",
       "888        W./C. 6607     W./C.     6607\n",
       "889            111369             111369\n",
       "890            370376             370376\n",
       "\n",
       "[891 rows x 3 columns]"
      ]
     },
     "execution_count": 13,
     "metadata": {},
     "output_type": "execute_result"
    }
   ],
   "source": [
    "# Separating into LP = Letter Part and NP = Number Part\n",
    "ttrain['TicketLP'] = ttrain['Ticket'].apply(lambda x: ''.join(x.split()[:-1]))\n",
    "ttrain['TicketNP'] = ttrain['Ticket'].apply(lambda x: x.split()[-1])\n",
    "\n",
    "ttest['TicketLP'] = ttest['Ticket'].apply(lambda x: ''.join(x.split()[:-1]))\n",
    "ttest['TicketNP'] = ttest['Ticket'].apply(lambda x: x.split()[-1])\n",
    "\n",
    "# Checking if it's all correct\n",
    "ttrain[['Ticket','TicketLP','TicketNP']]"
   ]
  },
  {
   "cell_type": "markdown",
   "id": "ece920d7",
   "metadata": {
    "papermill": {
     "duration": 0.056184,
     "end_time": "2022-03-01T12:36:02.911865",
     "exception": false,
     "start_time": "2022-03-01T12:36:02.855681",
     "status": "completed"
    },
    "tags": []
   },
   "source": [
    "I want to look into them further later."
   ]
  },
  {
   "cell_type": "code",
   "execution_count": 14,
   "id": "14e0232f",
   "metadata": {
    "execution": {
     "iopub.execute_input": "2022-03-01T12:36:03.030116Z",
     "iopub.status.busy": "2022-03-01T12:36:03.029168Z",
     "iopub.status.idle": "2022-03-01T12:36:03.032602Z",
     "shell.execute_reply": "2022-03-01T12:36:03.032018Z",
     "shell.execute_reply.started": "2022-03-01T12:29:57.771240Z"
    },
    "papermill": {
     "duration": 0.063861,
     "end_time": "2022-03-01T12:36:03.032777",
     "exception": false,
     "start_time": "2022-03-01T12:36:02.968916",
     "status": "completed"
    },
    "tags": []
   },
   "outputs": [],
   "source": [
    "#np.sort(ttrain['TicketNP'].values.astype(int))"
   ]
  },
  {
   "cell_type": "markdown",
   "id": "e53d1c6e",
   "metadata": {
    "papermill": {
     "duration": 0.056593,
     "end_time": "2022-03-01T12:36:03.147428",
     "exception": false,
     "start_time": "2022-03-01T12:36:03.090835",
     "status": "completed"
    },
    "tags": []
   },
   "source": [
    "Finally the cabin:"
   ]
  },
  {
   "cell_type": "markdown",
   "id": "03a6d70e",
   "metadata": {
    "papermill": {
     "duration": 0.061208,
     "end_time": "2022-03-01T12:36:03.264355",
     "exception": false,
     "start_time": "2022-03-01T12:36:03.203147",
     "status": "completed"
    },
    "tags": []
   },
   "source": [
    "# Cabin"
   ]
  },
  {
   "cell_type": "code",
   "execution_count": 15,
   "id": "b3f1c35d",
   "metadata": {
    "execution": {
     "iopub.execute_input": "2022-03-01T12:36:03.393473Z",
     "iopub.status.busy": "2022-03-01T12:36:03.391839Z",
     "iopub.status.idle": "2022-03-01T12:36:03.395262Z",
     "shell.execute_reply": "2022-03-01T12:36:03.394609Z",
     "shell.execute_reply.started": "2022-03-01T12:29:57.775721Z"
    },
    "papermill": {
     "duration": 0.072301,
     "end_time": "2022-03-01T12:36:03.395456",
     "exception": false,
     "start_time": "2022-03-01T12:36:03.323155",
     "status": "completed"
    },
    "tags": []
   },
   "outputs": [],
   "source": [
    "#ttrain['Cabin'].unique()"
   ]
  },
  {
   "cell_type": "markdown",
   "id": "00373719",
   "metadata": {
    "papermill": {
     "duration": 0.059343,
     "end_time": "2022-03-01T12:36:03.517867",
     "exception": false,
     "start_time": "2022-03-01T12:36:03.458524",
     "status": "completed"
    },
    "tags": []
   },
   "source": [
    "We can get the letters. Might have to do with where you were on the ship. Also number of cabins. "
   ]
  },
  {
   "cell_type": "code",
   "execution_count": 16,
   "id": "619567bc",
   "metadata": {
    "execution": {
     "iopub.execute_input": "2022-03-01T12:36:03.654068Z",
     "iopub.status.busy": "2022-03-01T12:36:03.653335Z",
     "iopub.status.idle": "2022-03-01T12:36:03.655957Z",
     "shell.execute_reply": "2022-03-01T12:36:03.656566Z",
     "shell.execute_reply.started": "2022-03-01T12:29:57.787801Z"
    },
    "papermill": {
     "duration": 0.075381,
     "end_time": "2022-03-01T12:36:03.656767",
     "exception": false,
     "start_time": "2022-03-01T12:36:03.581386",
     "status": "completed"
    },
    "tags": []
   },
   "outputs": [],
   "source": [
    "# function for extracting the cabin letters\n",
    "def cletters(x):\n",
    "    if not str(x) == 'nan':\n",
    "        cletters = ''\n",
    "        for p in x.split():\n",
    "            cletters += p[0]\n",
    "        return cletters\n"
   ]
  },
  {
   "cell_type": "code",
   "execution_count": 17,
   "id": "1933152b",
   "metadata": {
    "execution": {
     "iopub.execute_input": "2022-03-01T12:36:03.786978Z",
     "iopub.status.busy": "2022-03-01T12:36:03.786243Z",
     "iopub.status.idle": "2022-03-01T12:36:03.799787Z",
     "shell.execute_reply": "2022-03-01T12:36:03.800309Z",
     "shell.execute_reply.started": "2022-03-01T12:29:57.795886Z"
    },
    "papermill": {
     "duration": 0.084822,
     "end_time": "2022-03-01T12:36:03.800482",
     "exception": false,
     "start_time": "2022-03-01T12:36:03.715660",
     "status": "completed"
    },
    "tags": []
   },
   "outputs": [
    {
     "data": {
      "text/html": [
       "<div>\n",
       "<style scoped>\n",
       "    .dataframe tbody tr th:only-of-type {\n",
       "        vertical-align: middle;\n",
       "    }\n",
       "\n",
       "    .dataframe tbody tr th {\n",
       "        vertical-align: top;\n",
       "    }\n",
       "\n",
       "    .dataframe thead th {\n",
       "        text-align: right;\n",
       "    }\n",
       "</style>\n",
       "<table border=\"1\" class=\"dataframe\">\n",
       "  <thead>\n",
       "    <tr style=\"text-align: right;\">\n",
       "      <th></th>\n",
       "      <th>Cabin</th>\n",
       "      <th>NCabins</th>\n",
       "      <th>CabinLetters</th>\n",
       "    </tr>\n",
       "  </thead>\n",
       "  <tbody>\n",
       "    <tr>\n",
       "      <th>0</th>\n",
       "      <td>NaN</td>\n",
       "      <td>0</td>\n",
       "      <td>None</td>\n",
       "    </tr>\n",
       "    <tr>\n",
       "      <th>1</th>\n",
       "      <td>C85</td>\n",
       "      <td>1</td>\n",
       "      <td>C</td>\n",
       "    </tr>\n",
       "    <tr>\n",
       "      <th>2</th>\n",
       "      <td>NaN</td>\n",
       "      <td>0</td>\n",
       "      <td>None</td>\n",
       "    </tr>\n",
       "    <tr>\n",
       "      <th>3</th>\n",
       "      <td>C123</td>\n",
       "      <td>1</td>\n",
       "      <td>C</td>\n",
       "    </tr>\n",
       "    <tr>\n",
       "      <th>4</th>\n",
       "      <td>NaN</td>\n",
       "      <td>0</td>\n",
       "      <td>None</td>\n",
       "    </tr>\n",
       "    <tr>\n",
       "      <th>...</th>\n",
       "      <td>...</td>\n",
       "      <td>...</td>\n",
       "      <td>...</td>\n",
       "    </tr>\n",
       "    <tr>\n",
       "      <th>886</th>\n",
       "      <td>NaN</td>\n",
       "      <td>0</td>\n",
       "      <td>None</td>\n",
       "    </tr>\n",
       "    <tr>\n",
       "      <th>887</th>\n",
       "      <td>B42</td>\n",
       "      <td>1</td>\n",
       "      <td>B</td>\n",
       "    </tr>\n",
       "    <tr>\n",
       "      <th>888</th>\n",
       "      <td>NaN</td>\n",
       "      <td>0</td>\n",
       "      <td>None</td>\n",
       "    </tr>\n",
       "    <tr>\n",
       "      <th>889</th>\n",
       "      <td>C148</td>\n",
       "      <td>1</td>\n",
       "      <td>C</td>\n",
       "    </tr>\n",
       "    <tr>\n",
       "      <th>890</th>\n",
       "      <td>NaN</td>\n",
       "      <td>0</td>\n",
       "      <td>None</td>\n",
       "    </tr>\n",
       "  </tbody>\n",
       "</table>\n",
       "<p>891 rows × 3 columns</p>\n",
       "</div>"
      ],
      "text/plain": [
       "    Cabin  NCabins CabinLetters\n",
       "0     NaN        0         None\n",
       "1     C85        1            C\n",
       "2     NaN        0         None\n",
       "3    C123        1            C\n",
       "4     NaN        0         None\n",
       "..    ...      ...          ...\n",
       "886   NaN        0         None\n",
       "887   B42        1            B\n",
       "888   NaN        0         None\n",
       "889  C148        1            C\n",
       "890   NaN        0         None\n",
       "\n",
       "[891 rows x 3 columns]"
      ]
     },
     "execution_count": 17,
     "metadata": {},
     "output_type": "execute_result"
    }
   ],
   "source": [
    "#first number of cabins:\n",
    "ttrain['NCabins'] = ttrain['Cabin'].apply(lambda x: len(x.split()) if not str(x) == 'nan' else 0)\n",
    "#According to the function on the cell above, we fill in the cabin letters\n",
    "ttrain['CabinLetters'] = ttrain['Cabin'].apply(cletters)\n",
    "\n",
    "#first number of cabins:\n",
    "ttest['NCabins'] = ttest['Cabin'].apply(lambda x: len(x.split()) if not str(x) == 'nan' else 0)\n",
    "#According to the function on the cell above, we fill in the cabin letters\n",
    "ttest['CabinLetters'] = ttest['Cabin'].apply(cletters)\n",
    "\n",
    "# Checking that it works as usual\n",
    "ttrain[['Cabin','NCabins','CabinLetters']]"
   ]
  },
  {
   "cell_type": "code",
   "execution_count": 18,
   "id": "ae7e3aaf",
   "metadata": {
    "execution": {
     "iopub.execute_input": "2022-03-01T12:36:03.919385Z",
     "iopub.status.busy": "2022-03-01T12:36:03.918669Z",
     "iopub.status.idle": "2022-03-01T12:36:03.927547Z",
     "shell.execute_reply": "2022-03-01T12:36:03.928076Z",
     "shell.execute_reply.started": "2022-03-01T12:29:57.819807Z"
    },
    "papermill": {
     "duration": 0.071507,
     "end_time": "2022-03-01T12:36:03.928267",
     "exception": false,
     "start_time": "2022-03-01T12:36:03.856760",
     "status": "completed"
    },
    "tags": []
   },
   "outputs": [],
   "source": [
    "#lets reduce parname and aponame to just a boolean: having or not having one. Also for others which apply.\n",
    "has_blah_blah = {'ParName', 'ApoName', 'Cabin'}\n",
    "for has in has_blah_blah:\n",
    "    ttrain[f'Has{has}'] = ~ttrain[f'{has}'].isna()\n",
    "    ttest[f'Has{has}'] = ~ttest[f'{has}'].isna()\n",
    "    \n",
    "\n"
   ]
  },
  {
   "cell_type": "markdown",
   "id": "b6233b00",
   "metadata": {
    "papermill": {
     "duration": 0.057449,
     "end_time": "2022-03-01T12:36:04.043130",
     "exception": false,
     "start_time": "2022-03-01T12:36:03.985681",
     "status": "completed"
    },
    "tags": []
   },
   "source": [
    "Finding the families. I suspect families died or lived together."
   ]
  },
  {
   "cell_type": "code",
   "execution_count": 19,
   "id": "6b7ccaa0",
   "metadata": {
    "execution": {
     "iopub.execute_input": "2022-03-01T12:36:04.168046Z",
     "iopub.status.busy": "2022-03-01T12:36:04.167257Z",
     "iopub.status.idle": "2022-03-01T12:36:04.171857Z",
     "shell.execute_reply": "2022-03-01T12:36:04.172369Z",
     "shell.execute_reply.started": "2022-03-01T12:29:57.830409Z"
    },
    "papermill": {
     "duration": 0.068669,
     "end_time": "2022-03-01T12:36:04.172563",
     "exception": false,
     "start_time": "2022-03-01T12:36:04.103894",
     "status": "completed"
    },
    "tags": []
   },
   "outputs": [],
   "source": [
    "#returns the number of dead passengers with the same ticket, but with a different passengerid. needs improvement\n",
    "def n_dead_family(id, ticket):\n",
    "    n = ttrain[(ttrain['Ticket'] == ticket) & (ttrain['PassengerId'] != id)]['Survived'].apply(\n",
    "        lambda x: True if x == 0 else False).sum()\n",
    "    return n"
   ]
  },
  {
   "cell_type": "code",
   "execution_count": 20,
   "id": "82f6cd3b",
   "metadata": {
    "execution": {
     "iopub.execute_input": "2022-03-01T12:36:04.297585Z",
     "iopub.status.busy": "2022-03-01T12:36:04.296536Z",
     "iopub.status.idle": "2022-03-01T12:36:05.874111Z",
     "shell.execute_reply": "2022-03-01T12:36:05.874594Z",
     "shell.execute_reply.started": "2022-03-01T12:29:57.836370Z"
    },
    "papermill": {
     "duration": 1.644252,
     "end_time": "2022-03-01T12:36:05.874797",
     "exception": false,
     "start_time": "2022-03-01T12:36:04.230545",
     "status": "completed"
    },
    "tags": []
   },
   "outputs": [
    {
     "data": {
      "text/html": [
       "<div>\n",
       "<style scoped>\n",
       "    .dataframe tbody tr th:only-of-type {\n",
       "        vertical-align: middle;\n",
       "    }\n",
       "\n",
       "    .dataframe tbody tr th {\n",
       "        vertical-align: top;\n",
       "    }\n",
       "\n",
       "    .dataframe thead th {\n",
       "        text-align: right;\n",
       "    }\n",
       "</style>\n",
       "<table border=\"1\" class=\"dataframe\">\n",
       "  <thead>\n",
       "    <tr style=\"text-align: right;\">\n",
       "      <th></th>\n",
       "      <th>DeadFamilyMembers</th>\n",
       "      <th>Ticket</th>\n",
       "      <th>Survived</th>\n",
       "    </tr>\n",
       "  </thead>\n",
       "  <tbody>\n",
       "    <tr>\n",
       "      <th>504</th>\n",
       "      <td>0</td>\n",
       "      <td>110152</td>\n",
       "      <td>1</td>\n",
       "    </tr>\n",
       "    <tr>\n",
       "      <th>257</th>\n",
       "      <td>0</td>\n",
       "      <td>110152</td>\n",
       "      <td>1</td>\n",
       "    </tr>\n",
       "    <tr>\n",
       "      <th>759</th>\n",
       "      <td>0</td>\n",
       "      <td>110152</td>\n",
       "      <td>1</td>\n",
       "    </tr>\n",
       "    <tr>\n",
       "      <th>262</th>\n",
       "      <td>0</td>\n",
       "      <td>110413</td>\n",
       "      <td>0</td>\n",
       "    </tr>\n",
       "    <tr>\n",
       "      <th>558</th>\n",
       "      <td>1</td>\n",
       "      <td>110413</td>\n",
       "      <td>1</td>\n",
       "    </tr>\n",
       "    <tr>\n",
       "      <th>...</th>\n",
       "      <td>...</td>\n",
       "      <td>...</td>\n",
       "      <td>...</td>\n",
       "    </tr>\n",
       "    <tr>\n",
       "      <th>235</th>\n",
       "      <td>0</td>\n",
       "      <td>W./C. 6609</td>\n",
       "      <td>0</td>\n",
       "    </tr>\n",
       "    <tr>\n",
       "      <th>92</th>\n",
       "      <td>0</td>\n",
       "      <td>W.E.P. 5734</td>\n",
       "      <td>0</td>\n",
       "    </tr>\n",
       "    <tr>\n",
       "      <th>219</th>\n",
       "      <td>0</td>\n",
       "      <td>W/C 14208</td>\n",
       "      <td>0</td>\n",
       "    </tr>\n",
       "    <tr>\n",
       "      <th>540</th>\n",
       "      <td>1</td>\n",
       "      <td>WE/P 5735</td>\n",
       "      <td>1</td>\n",
       "    </tr>\n",
       "    <tr>\n",
       "      <th>745</th>\n",
       "      <td>0</td>\n",
       "      <td>WE/P 5735</td>\n",
       "      <td>0</td>\n",
       "    </tr>\n",
       "  </tbody>\n",
       "</table>\n",
       "<p>891 rows × 3 columns</p>\n",
       "</div>"
      ],
      "text/plain": [
       "     DeadFamilyMembers       Ticket  Survived\n",
       "504                  0       110152         1\n",
       "257                  0       110152         1\n",
       "759                  0       110152         1\n",
       "262                  0       110413         0\n",
       "558                  1       110413         1\n",
       "..                 ...          ...       ...\n",
       "235                  0   W./C. 6609         0\n",
       "92                   0  W.E.P. 5734         0\n",
       "219                  0    W/C 14208         0\n",
       "540                  1    WE/P 5735         1\n",
       "745                  0    WE/P 5735         0\n",
       "\n",
       "[891 rows x 3 columns]"
      ]
     },
     "execution_count": 20,
     "metadata": {},
     "output_type": "execute_result"
    }
   ],
   "source": [
    "#applying the function\n",
    "ttrain['DeadFamilyMembers'] = ttrain.apply(\n",
    "    lambda row: n_dead_family(row['PassengerId'],row['Ticket']), axis = 1)\n",
    "\n",
    "ttest['DeadFamilyMembers'] = ttest.apply(\n",
    "    lambda row: n_dead_family(row['PassengerId'],row['Ticket']), axis = 1)\n",
    "\n",
    "# checking\n",
    "ttrain[['DeadFamilyMembers', 'Ticket','Survived']].sort_values('Ticket')\n",
    "# I wonder if women who lost their husbands had better chances of surviving?"
   ]
  },
  {
   "cell_type": "code",
   "execution_count": 21,
   "id": "f85cf4d2",
   "metadata": {
    "_kg_hide-input": true,
    "execution": {
     "iopub.execute_input": "2022-03-01T12:36:05.995703Z",
     "iopub.status.busy": "2022-03-01T12:36:05.994807Z",
     "iopub.status.idle": "2022-03-01T12:36:05.998441Z",
     "shell.execute_reply": "2022-03-01T12:36:05.998925Z",
     "shell.execute_reply.started": "2022-03-01T12:29:59.245807Z"
    },
    "papermill": {
     "duration": 0.067065,
     "end_time": "2022-03-01T12:36:05.999110",
     "exception": false,
     "start_time": "2022-03-01T12:36:05.932045",
     "status": "completed"
    },
    "tags": []
   },
   "outputs": [
    {
     "data": {
      "text/plain": [
       "\"\\nttrain[ttrain.duplicated('LastName')]['LastName'].sort_values()\\nttrain[ttrain['LastName'] == 'Abbott']\\ngr_by_ticket = ttrain.groupby('Ticket').count()\\ngr_by_ticket[gr_by_ticket['PassengerId'] > 1]['PassengerId'].sort_values()\\n\""
      ]
     },
     "execution_count": 21,
     "metadata": {},
     "output_type": "execute_result"
    }
   ],
   "source": [
    "# this is just for testing, please ignore\n",
    "\"\"\"\n",
    "ttrain[ttrain.duplicated('LastName')]['LastName'].sort_values()\n",
    "ttrain[ttrain['LastName'] == 'Abbott']\n",
    "gr_by_ticket = ttrain.groupby('Ticket').count()\n",
    "gr_by_ticket[gr_by_ticket['PassengerId'] > 1]['PassengerId'].sort_values()\n",
    "\"\"\""
   ]
  },
  {
   "cell_type": "code",
   "execution_count": 22,
   "id": "2f48f426",
   "metadata": {
    "_kg_hide-input": true,
    "execution": {
     "iopub.execute_input": "2022-03-01T12:36:06.121522Z",
     "iopub.status.busy": "2022-03-01T12:36:06.120794Z",
     "iopub.status.idle": "2022-03-01T12:36:06.123277Z",
     "shell.execute_reply": "2022-03-01T12:36:06.122642Z",
     "shell.execute_reply.started": "2022-03-01T12:29:59.265503Z"
    },
    "papermill": {
     "duration": 0.065144,
     "end_time": "2022-03-01T12:36:06.123416",
     "exception": false,
     "start_time": "2022-03-01T12:36:06.058272",
     "status": "completed"
    },
    "tags": []
   },
   "outputs": [],
   "source": [
    "#ttrain['LastName'].sort_values()"
   ]
  },
  {
   "cell_type": "markdown",
   "id": "d529596d",
   "metadata": {
    "papermill": {
     "duration": 0.056651,
     "end_time": "2022-03-01T12:36:06.237519",
     "exception": false,
     "start_time": "2022-03-01T12:36:06.180868",
     "status": "completed"
    },
    "tags": []
   },
   "source": [
    "Ok, we will come back to that later. I think that should be enough for a first glance. Lets look at the missing values and then do some visualizations."
   ]
  },
  {
   "cell_type": "markdown",
   "id": "b0b0ac1f",
   "metadata": {
    "papermill": {
     "duration": 0.059624,
     "end_time": "2022-03-01T12:36:06.354323",
     "exception": false,
     "start_time": "2022-03-01T12:36:06.294699",
     "status": "completed"
    },
    "tags": []
   },
   "source": [
    "# Graphing!"
   ]
  },
  {
   "cell_type": "code",
   "execution_count": 23,
   "id": "af9cddbb",
   "metadata": {
    "execution": {
     "iopub.execute_input": "2022-03-01T12:36:06.478179Z",
     "iopub.status.busy": "2022-03-01T12:36:06.477440Z",
     "iopub.status.idle": "2022-03-01T12:36:06.484265Z",
     "shell.execute_reply": "2022-03-01T12:36:06.484841Z",
     "shell.execute_reply.started": "2022-03-01T12:29:59.274195Z"
    },
    "papermill": {
     "duration": 0.071018,
     "end_time": "2022-03-01T12:36:06.485055",
     "exception": false,
     "start_time": "2022-03-01T12:36:06.414037",
     "status": "completed"
    },
    "tags": []
   },
   "outputs": [],
   "source": [
    "# maybe there is a way of just rerunning this cell, but I dont know how \n",
    "# so i just copied and pasted it back here. Could've written a func\n",
    "numerical = {'Age','Fare','SibSp', 'Parch'}\n",
    "categorical = set(ttrain.columns).difference(numerical)\n",
    "cat_and_num = set()\n",
    "for col in numerical:\n",
    "    if(n_unique(ttrain,col) < 10):\n",
    "        cat_and_num.add(col)\n",
    "\n",
    "\n",
    "ttrain_num = ttrain[numerical]\n",
    "ttrain_cat = ttrain[categorical]"
   ]
  },
  {
   "cell_type": "markdown",
   "id": "aa7e8c91",
   "metadata": {
    "papermill": {
     "duration": 0.05715,
     "end_time": "2022-03-01T12:36:06.600811",
     "exception": false,
     "start_time": "2022-03-01T12:36:06.543661",
     "status": "completed"
    },
    "tags": []
   },
   "source": [
    "Looking at the distributions of the categorical variables. You can rerun this cell after running the notebook to get extra graphs."
   ]
  },
  {
   "cell_type": "code",
   "execution_count": 24,
   "id": "994bf9cf",
   "metadata": {
    "execution": {
     "iopub.execute_input": "2022-03-01T12:36:06.752215Z",
     "iopub.status.busy": "2022-03-01T12:36:06.750839Z",
     "iopub.status.idle": "2022-03-01T12:36:10.304500Z",
     "shell.execute_reply": "2022-03-01T12:36:10.303755Z",
     "shell.execute_reply.started": "2022-03-01T12:29:59.597425Z"
    },
    "papermill": {
     "duration": 3.63622,
     "end_time": "2022-03-01T12:36:10.304650",
     "exception": false,
     "start_time": "2022-03-01T12:36:06.668430",
     "status": "completed"
    },
    "tags": []
   },
   "outputs": [
    {
     "data": {
      "image/png": "[encoded data removed]",
      "text/plain": [
       "<Figure size 432x288 with 1 Axes>"
      ]
     },
     "metadata": {
      "needs_background": "light"
     },
     "output_type": "display_data"
    },
    {
     "data": {
      "image/png": "[encoded data removed]",
      "text/plain": [
       "<Figure size 432x288 with 1 Axes>"
      ]
     },
     "metadata": {
      "needs_background": "light"
     },
     "output_type": "display_data"
    },
    {
     "data": {
      "image/png": "[encoded data removed]",
      "text/plain": [
       "<Figure size 432x288 with 1 Axes>"
      ]
     },
     "metadata": {
      "needs_background": "light"
     },
     "output_type": "display_data"
    },
    {
     "data": {
      "image/png": "[encoded data removed]",
      "text/plain": [
       "<Figure size 432x288 with 1 Axes>"
      ]
     },
     "metadata": {
      "needs_background": "light"
     },
     "output_type": "display_data"
    },
    {
     "data": {
      "image/png": "[encoded data removed]",
      "text/plain": [
       "<Figure size 432x288 with 1 Axes>"
      ]
     },
     "metadata": {
      "needs_background": "light"
     },
     "output_type": "display_data"
    },
    {
     "data": {
      "image/png": "[encoded data removed]",
      "text/plain": [
       "<Figure size 432x288 with 1 Axes>"
      ]
     },
     "metadata": {
      "needs_background": "light"
     },
     "output_type": "display_data"
    },
    {
     "data": {
      "image/png": "[encoded data removed]",
      "text/plain": [
       "<Figure size 432x288 with 1 Axes>"
      ]
     },
     "metadata": {
      "needs_background": "light"
     },
     "output_type": "display_data"
    },
    {
     "data": {
      "image/png": "[encoded data removed]",
      "text/plain": [
       "<Figure size 432x288 with 1 Axes>"
      ]
     },
     "metadata": {
      "needs_background": "light"
     },
     "output_type": "display_data"
    },
    {
     "data": {
      "image/png": "[encoded data removed]",
      "text/plain": [
       "<Figure size 432x288 with 1 Axes>"
      ]
     },
     "metadata": {
      "needs_background": "light"
     },
     "output_type": "display_data"
    },
    {
     "data": {
      "image/png": "[encoded data removed]",
      "text/plain": [
       "<Figure size 432x288 with 1 Axes>"
      ]
     },
     "metadata": {
      "needs_background": "light"
     },
     "output_type": "display_data"
    },
    {
     "data": {
      "image/png": "[encoded data removed]",
      "text/plain": [
       "<Figure size 432x288 with 1 Axes>"
      ]
     },
     "metadata": {
      "needs_background": "light"
     },
     "output_type": "display_data"
    },
    {
     "data": {
      "image/png": "[encoded data removed]",
      "text/plain": [
       "<Figure size 432x288 with 1 Axes>"
      ]
     },
     "metadata": {
      "needs_background": "light"
     },
     "output_type": "display_data"
    },
    {
     "data": {
      "image/png": "[encoded data removed]",
      "text/plain": [
       "<Figure size 432x288 with 1 Axes>"
      ]
     },
     "metadata": {
      "needs_background": "light"
     },
     "output_type": "display_data"
    },
    {
     "data": {
      "image/png": "[encoded data removed]",
      "text/plain": [
       "<Figure size 432x288 with 1 Axes>"
      ]
     },
     "metadata": {
      "needs_background": "light"
     },
     "output_type": "display_data"
    },
    {
     "data": {
      "image/png": "[encoded data removed]",
      "text/plain": [
       "<Figure size 432x288 with 1 Axes>"
      ]
     },
     "metadata": {
      "needs_background": "light"
     },
     "output_type": "display_data"
    }
   ],
   "source": [
    "import matplotlib.pyplot as plt\n",
    "import seaborn as sns\n",
    "\n",
    "# dummies are the columns you don't necessarily want to graph. Remember it will appear later\n",
    "dummies = {'ApoName', 'ParName', 'Cabin', 'FirstName', 'LastName', 'Name', 'Ticket', 'TicketNP', 'PassengerId'}\n",
    "\n",
    "# Making plots of the categorical variables\n",
    "for category in categorical.difference(dummies).union(cat_and_num):\n",
    "    plt.xticks(rotation = 90)\n",
    "    sns.barplot(x = ttrain[category].value_counts().index,\n",
    "                y = ttrain[category].value_counts())\n",
    "    plt.title(category)\n",
    "    plt.show()"
   ]
  },
  {
   "cell_type": "markdown",
   "id": "79d06812",
   "metadata": {
    "papermill": {
     "duration": 0.070541,
     "end_time": "2022-03-01T12:36:10.444066",
     "exception": false,
     "start_time": "2022-03-01T12:36:10.373525",
     "status": "completed"
    },
    "tags": []
   },
   "source": [
    "Now we make the same graphs but with hues:"
   ]
  },
  {
   "cell_type": "code",
   "execution_count": 25,
   "id": "0c96f95b",
   "metadata": {
    "execution": {
     "iopub.execute_input": "2022-03-01T12:36:10.587632Z",
     "iopub.status.busy": "2022-03-01T12:36:10.586913Z",
     "iopub.status.idle": "2022-03-01T12:36:14.520822Z",
     "shell.execute_reply": "2022-03-01T12:36:14.519586Z",
     "shell.execute_reply.started": "2022-03-01T12:30:02.295193Z"
    },
    "papermill": {
     "duration": 4.00811,
     "end_time": "2022-03-01T12:36:14.521126",
     "exception": false,
     "start_time": "2022-03-01T12:36:10.513016",
     "status": "completed"
    },
    "tags": []
   },
   "outputs": [
    {
     "data": {
      "image/png": "[encoded data removed]",
      "text/plain": [
       "<Figure size 432x288 with 1 Axes>"
      ]
     },
     "metadata": {
      "needs_background": "light"
     },
     "output_type": "display_data"
    },
    {
     "data": {
      "image/png": "[encoded data removed]",
      "text/plain": [
       "<Figure size 432x288 with 1 Axes>"
      ]
     },
     "metadata": {
      "needs_background": "light"
     },
     "output_type": "display_data"
    },
    {
     "data": {
      "image/png": "[encoded data removed]",
      "text/plain": [
       "<Figure size 432x288 with 1 Axes>"
      ]
     },
     "metadata": {
      "needs_background": "light"
     },
     "output_type": "display_data"
    },
    {
     "data": {
      "image/png": "[encoded data removed]",
      "text/plain": [
       "<Figure size 432x288 with 1 Axes>"
      ]
     },
     "metadata": {
      "needs_background": "light"
     },
     "output_type": "display_data"
    },
    {
     "data": {
      "image/png": "[encoded data removed]",
      "text/plain": [
       "<Figure size 432x288 with 1 Axes>"
      ]
     },
     "metadata": {
      "needs_background": "light"
     },
     "output_type": "display_data"
    },
    {
     "data": {
      "image/png": "[encoded data removed]",
      "text/plain": [
       "<Figure size 432x288 with 1 Axes>"
      ]
     },
     "metadata": {
      "needs_background": "light"
     },
     "output_type": "display_data"
    },
    {
     "data": {
      "image/png": "[encoded data removed]",
      "text/plain": [
       "<Figure size 432x288 with 1 Axes>"
      ]
     },
     "metadata": {
      "needs_background": "light"
     },
     "output_type": "display_data"
    },
    {
     "data": {
      "image/png": "[encoded data removed]",
      "text/plain": [
       "<Figure size 432x288 with 1 Axes>"
      ]
     },
     "metadata": {
      "needs_background": "light"
     },
     "output_type": "display_data"
    },
    {
     "data": {
      "image/png": "[encoded data removed]",
      "text/plain": [
       "<Figure size 432x288 with 1 Axes>"
      ]
     },
     "metadata": {
      "needs_background": "light"
     },
     "output_type": "display_data"
    },
    {
     "data": {
      "image/png": "[encoded data removed]",
      "text/plain": [
       "<Figure size 432x288 with 1 Axes>"
      ]
     },
     "metadata": {
      "needs_background": "light"
     },
     "output_type": "display_data"
    },
    {
     "data": {
      "image/png": "[encoded data removed]",
      "text/plain": [
       "<Figure size 432x288 with 1 Axes>"
      ]
     },
     "metadata": {
      "needs_background": "light"
     },
     "output_type": "display_data"
    },
    {
     "data": {
      "image/png": "[encoded data removed]",
      "text/plain": [
       "<Figure size 432x288 with 1 Axes>"
      ]
     },
     "metadata": {
      "needs_background": "light"
     },
     "output_type": "display_data"
    },
    {
     "data": {
      "image/png": "[encoded data removed]",
      "text/plain": [
       "<Figure size 432x288 with 1 Axes>"
      ]
     },
     "metadata": {
      "needs_background": "light"
     },
     "output_type": "display_data"
    },
    {
     "data": {
      "image/png": "[encoded data removed]",
      "text/plain": [
       "<Figure size 432x288 with 1 Axes>"
      ]
     },
     "metadata": {
      "needs_background": "light"
     },
     "output_type": "display_data"
    },
    {
     "data": {
      "image/png": "[encoded data removed]",
      "text/plain": [
       "<Figure size 432x288 with 1 Axes>"
      ]
     },
     "metadata": {
      "needs_background": "light"
     },
     "output_type": "display_data"
    }
   ],
   "source": [
    "for category in categorical.difference(dummies).union(cat_and_num):\n",
    "    _ = sns.countplot(data = ttrain, x = category, hue = 'Survived')\n",
    "    _ = _.set(title = category)\n",
    "    plt.show()\n",
    "    "
   ]
  },
  {
   "cell_type": "markdown",
   "id": "73a19087",
   "metadata": {
    "papermill": {
     "duration": 0.091153,
     "end_time": "2022-03-01T12:36:14.697077",
     "exception": false,
     "start_time": "2022-03-01T12:36:14.605924",
     "status": "completed"
    },
    "tags": []
   },
   "source": [
    "Now we will plot histograms for the numerical variables. The number of bins is the square root of the sample size."
   ]
  },
  {
   "cell_type": "code",
   "execution_count": 26,
   "id": "ec277cbd",
   "metadata": {
    "execution": {
     "iopub.execute_input": "2022-03-01T12:36:14.959181Z",
     "iopub.status.busy": "2022-03-01T12:36:14.938678Z",
     "iopub.status.idle": "2022-03-01T12:36:16.604846Z",
     "shell.execute_reply": "2022-03-01T12:36:16.604057Z",
     "shell.execute_reply.started": "2022-03-01T12:30:06.096153Z"
    },
    "papermill": {
     "duration": 1.789616,
     "end_time": "2022-03-01T12:36:16.605018",
     "exception": false,
     "start_time": "2022-03-01T12:36:14.815402",
     "status": "completed"
    },
    "tags": []
   },
   "outputs": [
    {
     "data": {
      "image/png": "[encoded data removed]",
      "text/plain": [
       "<Figure size 432x288 with 1 Axes>"
      ]
     },
     "metadata": {
      "needs_background": "light"
     },
     "output_type": "display_data"
    },
    {
     "data": {
      "image/png": "[encoded data removed]",
      "text/plain": [
       "<Figure size 432x288 with 1 Axes>"
      ]
     },
     "metadata": {
      "needs_background": "light"
     },
     "output_type": "display_data"
    },
    {
     "data": {
      "image/png": "[encoded data removed]",
      "text/plain": [
       "<Figure size 432x288 with 1 Axes>"
      ]
     },
     "metadata": {
      "needs_background": "light"
     },
     "output_type": "display_data"
    },
    {
     "data": {
      "image/png": "[encoded data removed]",
      "text/plain": [
       "<Figure size 432x288 with 1 Axes>"
      ]
     },
     "metadata": {
      "needs_background": "light"
     },
     "output_type": "display_data"
    }
   ],
   "source": [
    "for num in numerical.union(cat_and_num): \n",
    "    n_bins = np.sqrt(ttrain[num].isna().apply(lambda x: not x).sum())\n",
    "    sns.histplot(x = ttrain[num], hue = ttrain['Survived'], bins = int(n_bins), multiple = 'stack')\n",
    "    plt.show()"
   ]
  },
  {
   "cell_type": "markdown",
   "id": "7473b696",
   "metadata": {
    "papermill": {
     "duration": 0.091836,
     "end_time": "2022-03-01T12:36:16.787274",
     "exception": false,
     "start_time": "2022-03-01T12:36:16.695438",
     "status": "completed"
    },
    "tags": []
   },
   "source": [
    "# Cleaning the data\n",
    "# Missing values:"
   ]
  },
  {
   "cell_type": "code",
   "execution_count": 27,
   "id": "8b53e58a",
   "metadata": {
    "execution": {
     "iopub.execute_input": "2022-03-01T12:36:16.972774Z",
     "iopub.status.busy": "2022-03-01T12:36:16.971992Z",
     "iopub.status.idle": "2022-03-01T12:36:16.975690Z",
     "shell.execute_reply": "2022-03-01T12:36:16.976457Z",
     "shell.execute_reply.started": "2022-03-01T12:30:07.477375Z"
    },
    "papermill": {
     "duration": 0.098834,
     "end_time": "2022-03-01T12:36:16.976651",
     "exception": false,
     "start_time": "2022-03-01T12:36:16.877817",
     "status": "completed"
    },
    "tags": []
   },
   "outputs": [],
   "source": [
    "ttrain_missing = ttrain #saving current state of ttrain so we can explore the missing values"
   ]
  },
  {
   "cell_type": "code",
   "execution_count": 28,
   "id": "47370f32",
   "metadata": {
    "execution": {
     "iopub.execute_input": "2022-03-01T12:36:17.158371Z",
     "iopub.status.busy": "2022-03-01T12:36:17.157610Z",
     "iopub.status.idle": "2022-03-01T12:36:17.921357Z",
     "shell.execute_reply": "2022-03-01T12:36:17.921977Z",
     "shell.execute_reply.started": "2022-03-01T12:30:07.481903Z"
    },
    "papermill": {
     "duration": 0.856174,
     "end_time": "2022-03-01T12:36:17.922164",
     "exception": false,
     "start_time": "2022-03-01T12:36:17.065990",
     "status": "completed"
    },
    "tags": []
   },
   "outputs": [
    {
     "name": "stdout",
     "output_type": "stream",
     "text": [
      "AxesSubplot(0.125,0.125;0.698618x0.755)\n",
      "PassengerId            0\n",
      "Survived               0\n",
      "Pclass                 0\n",
      "Name                   0\n",
      "Sex                    0\n",
      "Age                  177\n",
      "SibSp                  0\n",
      "Parch                  0\n",
      "Ticket                 0\n",
      "Fare                   0\n",
      "Cabin                687\n",
      "Embarked               2\n",
      "LastName               0\n",
      "FirstName              0\n",
      "Title                  0\n",
      "ParName              748\n",
      "ApoName              838\n",
      "SocialH                0\n",
      "TicketLP               0\n",
      "TicketNP               0\n",
      "NCabins                0\n",
      "CabinLetters         687\n",
      "HasCabin               0\n",
      "HasApoName             0\n",
      "HasParName             0\n",
      "DeadFamilyMembers      0\n",
      "dtype: int64\n"
     ]
    },
    {
     "data": {
      "image/png": "[encoded data removed]",
      "text/plain": [
       "<Figure size 1800x720 with 2 Axes>"
      ]
     },
     "metadata": {
      "needs_background": "light"
     },
     "output_type": "display_data"
    }
   ],
   "source": [
    "import missingno as msno\n",
    "\n",
    "# looking at what values are missing for both the train and test sets:\n",
    "print(msno.matrix(ttrain))\n",
    "print(ttrain.isna().sum())"
   ]
  },
  {
   "cell_type": "code",
   "execution_count": 29,
   "id": "d22b78b0",
   "metadata": {
    "execution": {
     "iopub.execute_input": "2022-03-01T12:36:18.114722Z",
     "iopub.status.busy": "2022-03-01T12:36:18.114046Z",
     "iopub.status.idle": "2022-03-01T12:36:18.874357Z",
     "shell.execute_reply": "2022-03-01T12:36:18.873470Z",
     "shell.execute_reply.started": "2022-03-01T12:30:08.188649Z"
    },
    "papermill": {
     "duration": 0.86078,
     "end_time": "2022-03-01T12:36:18.874654",
     "exception": false,
     "start_time": "2022-03-01T12:36:18.013874",
     "status": "completed"
    },
    "tags": []
   },
   "outputs": [
    {
     "name": "stdout",
     "output_type": "stream",
     "text": [
      "AxesSubplot(0.125,0.125;0.698618x0.755)\n",
      "PassengerId            0\n",
      "Pclass                 0\n",
      "Name                   0\n",
      "Sex                    0\n",
      "Age                   86\n",
      "SibSp                  0\n",
      "Parch                  0\n",
      "Ticket                 0\n",
      "Fare                   1\n",
      "Cabin                327\n",
      "Embarked               0\n",
      "LastName               0\n",
      "FirstName              0\n",
      "Title                  0\n",
      "ParName              340\n",
      "ApoName              396\n",
      "SocialH                0\n",
      "TicketLP               0\n",
      "TicketNP               0\n",
      "NCabins                0\n",
      "CabinLetters         327\n",
      "HasCabin               0\n",
      "HasApoName             0\n",
      "HasParName             0\n",
      "DeadFamilyMembers      0\n",
      "dtype: int64\n"
     ]
    },
    {
     "data": {
      "image/png": "[encoded data removed]",
      "text/plain": [
       "<Figure size 1800x720 with 2 Axes>"
      ]
     },
     "metadata": {
      "needs_background": "light"
     },
     "output_type": "display_data"
    }
   ],
   "source": [
    "\n",
    "print(msno.matrix(ttest))\n",
    "print(ttest.isna().sum())"
   ]
  },
  {
   "cell_type": "markdown",
   "id": "1eecd40e",
   "metadata": {
    "papermill": {
     "duration": 0.094928,
     "end_time": "2022-03-01T12:36:19.077378",
     "exception": false,
     "start_time": "2022-03-01T12:36:18.982450",
     "status": "completed"
    },
    "tags": []
   },
   "source": [
    "Before filling in, lets look into possible patterns in the missing values:"
   ]
  },
  {
   "cell_type": "code",
   "execution_count": 30,
   "id": "c3a433c6",
   "metadata": {
    "execution": {
     "iopub.execute_input": "2022-03-01T12:36:19.269557Z",
     "iopub.status.busy": "2022-03-01T12:36:19.265278Z",
     "iopub.status.idle": "2022-03-01T12:36:19.698077Z",
     "shell.execute_reply": "2022-03-01T12:36:19.698623Z",
     "shell.execute_reply.started": "2022-03-01T12:30:09.043920Z"
    },
    "papermill": {
     "duration": 0.527558,
     "end_time": "2022-03-01T12:36:19.698819",
     "exception": false,
     "start_time": "2022-03-01T12:36:19.171261",
     "status": "completed"
    },
    "tags": []
   },
   "outputs": [
    {
     "data": {
      "text/plain": [
       "<AxesSubplot:>"
      ]
     },
     "execution_count": 30,
     "metadata": {},
     "output_type": "execute_result"
    },
    {
     "data": {
      "image/png": "[encoded data removed]",
      "text/plain": [
       "<Figure size 1440x864 with 2 Axes>"
      ]
     },
     "metadata": {
      "needs_background": "light"
     },
     "output_type": "display_data"
    }
   ],
   "source": [
    "msno.heatmap(ttrain)"
   ]
  },
  {
   "cell_type": "markdown",
   "id": "488cf895",
   "metadata": {
    "papermill": {
     "duration": 0.091675,
     "end_time": "2022-03-01T12:36:19.887212",
     "exception": false,
     "start_time": "2022-03-01T12:36:19.795537",
     "status": "completed"
    },
    "tags": []
   },
   "source": [
    "Age or cabin missing seem to be unrelated. Want to look further into the missing values, but for now\n",
    "I'll just fill them with simple methods so I can move into the modelling part."
   ]
  },
  {
   "cell_type": "code",
   "execution_count": 31,
   "id": "276e2d64",
   "metadata": {
    "execution": {
     "iopub.execute_input": "2022-03-01T12:36:20.075540Z",
     "iopub.status.busy": "2022-03-01T12:36:20.074628Z",
     "iopub.status.idle": "2022-03-01T12:36:20.097160Z",
     "shell.execute_reply": "2022-03-01T12:36:20.097661Z",
     "shell.execute_reply.started": "2022-03-01T12:30:09.438397Z"
    },
    "papermill": {
     "duration": 0.121113,
     "end_time": "2022-03-01T12:36:20.097882",
     "exception": false,
     "start_time": "2022-03-01T12:36:19.976769",
     "status": "completed"
    },
    "tags": []
   },
   "outputs": [],
   "source": [
    "#we will assume whoever doesn't show a cabin, has no cabin. Other categories the \n",
    "#same rule applies:\n",
    "fill_with_nos = {'Cabin', 'ParName', 'ApoName', 'CabinLetters', 'Embarked'}\n",
    "for no in fill_with_nos:\n",
    "    ttrain[no] = ttrain[no].fillna(f'No {no}')\n",
    "    ttest[no] = ttest[no].fillna(f'No {no}')    \n",
    "\n",
    "#for now fill age with median cause I dont know how to make a better guess.\n",
    "#we should also probably save that the age was missing in some column tho.\n",
    "fill_with_median = {'Age','Fare'}\n",
    "for col in fill_with_median:\n",
    "    ttrain[f'{col}WasMissing'] = ttrain[col].isna()\n",
    "    ttrain[col] = ttrain[col].fillna(ttrain[col].median())\n",
    "    \n",
    "    ttest[f'{col}WasMissing'] = ttrain[col].isna()\n",
    "    ttest[col] = ttest[col].fillna(ttest[col].median())\n",
    "    \n",
    "\n"
   ]
  },
  {
   "cell_type": "code",
   "execution_count": 32,
   "id": "d28628ac",
   "metadata": {
    "execution": {
     "iopub.execute_input": "2022-03-01T12:36:20.282634Z",
     "iopub.status.busy": "2022-03-01T12:36:20.281951Z",
     "iopub.status.idle": "2022-03-01T12:36:20.284870Z",
     "shell.execute_reply": "2022-03-01T12:36:20.285355Z",
     "shell.execute_reply.started": "2022-03-01T12:30:09.455407Z"
    },
    "papermill": {
     "duration": 0.096169,
     "end_time": "2022-03-01T12:36:20.285550",
     "exception": false,
     "start_time": "2022-03-01T12:36:20.189381",
     "status": "completed"
    },
    "tags": []
   },
   "outputs": [],
   "source": [
    "#msno.matrix(ttrain)"
   ]
  },
  {
   "cell_type": "markdown",
   "id": "ca46bbca",
   "metadata": {
    "papermill": {
     "duration": 0.091199,
     "end_time": "2022-03-01T12:36:20.466577",
     "exception": false,
     "start_time": "2022-03-01T12:36:20.375378",
     "status": "completed"
    },
    "tags": []
   },
   "source": [
    "Nice. Now there are no missing values. Even though our filling was a bit suspicious.... We can do some modelling I guess. Maybe we get something that is OK with what we have done so far. \n",
    "\n",
    "Notes: \n",
    "* Missing values:\n",
    " - investigate any patterns in missing ages and cabins\n",
    " - investigate if the missing embarkments and cabins can be figured out from the ticket\n",
    " - learn more ways to deal with missing values\n",
    "* Parameter Creation:\n",
    " - Investigate grouping of numerical variables.\n",
    " - Try to figure out the families. Maybe if one  member survived, then the others did too?\n",
    " - Check if data makes sense. Ages, families, tickets, classes of different family members should be connected. I would imagine high status title should also be related to the Pclass. \n",
    " - wife/husbanddead, childrendead, parentsdead.\n",
    " "
   ]
  },
  {
   "cell_type": "code",
   "execution_count": 33,
   "id": "01add726",
   "metadata": {
    "_kg_hide-input": true,
    "execution": {
     "iopub.execute_input": "2022-03-01T12:36:20.655346Z",
     "iopub.status.busy": "2022-03-01T12:36:20.654600Z",
     "iopub.status.idle": "2022-03-01T12:36:20.682470Z",
     "shell.execute_reply": "2022-03-01T12:36:20.683011Z",
     "shell.execute_reply.started": "2022-03-01T12:30:10.143994Z"
    },
    "papermill": {
     "duration": 0.125038,
     "end_time": "2022-03-01T12:36:20.683203",
     "exception": false,
     "start_time": "2022-03-01T12:36:20.558165",
     "status": "completed"
    },
    "tags": []
   },
   "outputs": [
    {
     "data": {
      "text/html": [
       "<div>\n",
       "<style scoped>\n",
       "    .dataframe tbody tr th:only-of-type {\n",
       "        vertical-align: middle;\n",
       "    }\n",
       "\n",
       "    .dataframe tbody tr th {\n",
       "        vertical-align: top;\n",
       "    }\n",
       "\n",
       "    .dataframe thead th {\n",
       "        text-align: right;\n",
       "    }\n",
       "</style>\n",
       "<table border=\"1\" class=\"dataframe\">\n",
       "  <thead>\n",
       "    <tr style=\"text-align: right;\">\n",
       "      <th>Pclass</th>\n",
       "      <th>1</th>\n",
       "      <th>2</th>\n",
       "      <th>3</th>\n",
       "    </tr>\n",
       "    <tr>\n",
       "      <th>Sex</th>\n",
       "      <th></th>\n",
       "      <th></th>\n",
       "      <th></th>\n",
       "    </tr>\n",
       "  </thead>\n",
       "  <tbody>\n",
       "    <tr>\n",
       "      <th>female</th>\n",
       "      <td>0.968085</td>\n",
       "      <td>0.921053</td>\n",
       "      <td>0.500000</td>\n",
       "    </tr>\n",
       "    <tr>\n",
       "      <th>male</th>\n",
       "      <td>0.368852</td>\n",
       "      <td>0.157407</td>\n",
       "      <td>0.135447</td>\n",
       "    </tr>\n",
       "  </tbody>\n",
       "</table>\n",
       "</div>"
      ],
      "text/plain": [
       "Pclass         1         2         3\n",
       "Sex                                 \n",
       "female  0.968085  0.921053  0.500000\n",
       "male    0.368852  0.157407  0.135447"
      ]
     },
     "execution_count": 33,
     "metadata": {},
     "output_type": "execute_result"
    }
   ],
   "source": [
    "# this is just kind of cute values are proportion survived.\n",
    "pivot = ttrain.pivot_table(index='Sex', columns='Pclass', values='Survived')\n",
    "pivot"
   ]
  },
  {
   "cell_type": "markdown",
   "id": "e1d46b05",
   "metadata": {
    "papermill": {
     "duration": 0.090798,
     "end_time": "2022-03-01T12:36:20.863469",
     "exception": false,
     "start_time": "2022-03-01T12:36:20.772671",
     "status": "completed"
    },
    "tags": []
   },
   "source": [
    "# Modelling!"
   ]
  },
  {
   "cell_type": "code",
   "execution_count": 34,
   "id": "738f8a27",
   "metadata": {
    "execution": {
     "iopub.execute_input": "2022-03-01T12:36:21.052611Z",
     "iopub.status.busy": "2022-03-01T12:36:21.051861Z",
     "iopub.status.idle": "2022-03-01T12:36:21.059517Z",
     "shell.execute_reply": "2022-03-01T12:36:21.060031Z",
     "shell.execute_reply.started": "2022-03-01T12:30:10.163690Z"
    },
    "papermill": {
     "duration": 0.102657,
     "end_time": "2022-03-01T12:36:21.060224",
     "exception": false,
     "start_time": "2022-03-01T12:36:20.957567",
     "status": "completed"
    },
    "tags": []
   },
   "outputs": [],
   "source": [
    "# This is a function that I wrote to turn the categorical variables into numbers. \n",
    "# I suspect it is only appropriate for unordered categories.\n",
    "# Ex: Embark takes values S, Q or C. This function replaces them by 0, 1, 2\n",
    "def unorderedcat_to_num(*series):\n",
    "    output = []\n",
    "    dict_ = {}\n",
    "    for serie in series:\n",
    "        categories = np.sort(serie.unique())\n",
    "        for cat in categories:\n",
    "            if cat not in dict_.keys():\n",
    "                if(dict_ == {}):\n",
    "                    dict_[cat] = 0\n",
    "                else:\n",
    "                    dict_[cat] = max(dict_.values()) + 1\n",
    "        \n",
    "        #I made a terrible beginner mistake of not combining the train and test data. \n",
    "        #print(dict_)\n",
    "        output.append(serie.replace(dict_))\n",
    "\n",
    "    return output"
   ]
  },
  {
   "cell_type": "code",
   "execution_count": 35,
   "id": "b62e567a",
   "metadata": {
    "execution": {
     "iopub.execute_input": "2022-03-01T12:36:21.255824Z",
     "iopub.status.busy": "2022-03-01T12:36:21.255088Z",
     "iopub.status.idle": "2022-03-01T12:36:21.260637Z",
     "shell.execute_reply": "2022-03-01T12:36:21.261194Z",
     "shell.execute_reply.started": "2022-03-01T12:30:10.170613Z"
    },
    "papermill": {
     "duration": 0.103555,
     "end_time": "2022-03-01T12:36:21.261376",
     "exception": false,
     "start_time": "2022-03-01T12:36:21.157821",
     "status": "completed"
    },
    "tags": []
   },
   "outputs": [
    {
     "data": {
      "text/plain": [
       "{'Survived'}"
      ]
     },
     "execution_count": 35,
     "metadata": {},
     "output_type": "execute_result"
    }
   ],
   "source": [
    "\n",
    "#checking if the columns are the same on both the test and train data\n",
    "set(ttrain.columns).difference(\n",
    "set(ttest.columns))"
   ]
  },
  {
   "cell_type": "code",
   "execution_count": 36,
   "id": "654f0802",
   "metadata": {
    "execution": {
     "iopub.execute_input": "2022-03-01T12:36:21.450271Z",
     "iopub.status.busy": "2022-03-01T12:36:21.449520Z",
     "iopub.status.idle": "2022-03-01T12:36:21.454613Z",
     "shell.execute_reply": "2022-03-01T12:36:21.455172Z",
     "shell.execute_reply.started": "2022-03-01T12:30:10.185263Z"
    },
    "papermill": {
     "duration": 0.102372,
     "end_time": "2022-03-01T12:36:21.455356",
     "exception": false,
     "start_time": "2022-03-01T12:36:21.352984",
     "status": "completed"
    },
    "tags": []
   },
   "outputs": [
    {
     "data": {
      "text/plain": [
       "Index(['PassengerId', 'Survived', 'Pclass', 'Name', 'Sex', 'Age', 'SibSp',\n",
       "       'Parch', 'Ticket', 'Fare', 'Cabin', 'Embarked', 'LastName', 'FirstName',\n",
       "       'Title', 'ParName', 'ApoName', 'SocialH', 'TicketLP', 'TicketNP',\n",
       "       'NCabins', 'CabinLetters', 'HasCabin', 'HasApoName', 'HasParName',\n",
       "       'DeadFamilyMembers', 'FareWasMissing', 'AgeWasMissing'],\n",
       "      dtype='object')"
      ]
     },
     "execution_count": 36,
     "metadata": {},
     "output_type": "execute_result"
    }
   ],
   "source": [
    "#just printing all columns to help me with the next part\n",
    "ttrain.columns"
   ]
  },
  {
   "cell_type": "markdown",
   "id": "a29f98d2",
   "metadata": {
    "papermill": {
     "duration": 0.095419,
     "end_time": "2022-03-01T12:36:21.640807",
     "exception": false,
     "start_time": "2022-03-01T12:36:21.545388",
     "status": "completed"
    },
    "tags": []
   },
   "source": [
    "Applying the ML algorithms"
   ]
  },
  {
   "cell_type": "code",
   "execution_count": 37,
   "id": "bf4c6c92",
   "metadata": {
    "execution": {
     "iopub.execute_input": "2022-03-01T12:36:21.842201Z",
     "iopub.status.busy": "2022-03-01T12:36:21.841359Z",
     "iopub.status.idle": "2022-03-01T12:36:22.484680Z",
     "shell.execute_reply": "2022-03-01T12:36:22.483969Z",
     "shell.execute_reply.started": "2022-03-01T12:30:10.194171Z"
    },
    "papermill": {
     "duration": 0.747486,
     "end_time": "2022-03-01T12:36:22.485071",
     "exception": false,
     "start_time": "2022-03-01T12:36:21.737585",
     "status": "completed"
    },
    "tags": []
   },
   "outputs": [],
   "source": [
    "from sklearn.ensemble import RandomForestClassifier, GradientBoostingClassifier\n",
    "from sklearn.linear_model import LogisticRegression\n",
    "from sklearn.model_selection import train_test_split, GridSearchCV\n",
    "from sklearn.metrics import mean_squared_error as MSE, accuracy_score, confusion_matrix, classification_report\n",
    "from sklearn.pipeline import Pipeline\n",
    "from sklearn.preprocessing import OneHotEncoder\n",
    "\n",
    "#setting up a list of predictions done by different models: y"
   ]
  },
  {
   "cell_type": "code",
   "execution_count": 38,
   "id": "758e7a1d",
   "metadata": {
    "execution": {
     "iopub.execute_input": "2022-03-01T12:36:22.678598Z",
     "iopub.status.busy": "2022-03-01T12:36:22.677793Z",
     "iopub.status.idle": "2022-03-01T12:36:28.860267Z",
     "shell.execute_reply": "2022-03-01T12:36:28.861120Z",
     "shell.execute_reply.started": "2022-03-01T12:30:10.202807Z"
    },
    "papermill": {
     "duration": 6.282657,
     "end_time": "2022-03-01T12:36:28.861310",
     "exception": false,
     "start_time": "2022-03-01T12:36:22.578653",
     "status": "completed"
    },
    "tags": []
   },
   "outputs": [
    {
     "name": "stdout",
     "output_type": "stream",
     "text": [
      "Random Forest Classifier Out of Bag Score 0.8215488215488216\n",
      "RandomForestClassifier  0.8547486033519553\n",
      "GradientBoostingClassifier  0.8547486033519553\n",
      "LogisticRegression  0.8491620111731844\n"
     ]
    }
   ],
   "source": [
    "y_pred = {}\n",
    "YPRED = {}\n",
    "\n",
    "#preprocessing transformers: (I wrote this code before learning about pipelines)\n",
    "hot = OneHotEncoder(drop = 'first')\n",
    "hot.fit(ttrain)\n",
    "hot.transform(ttrain)\n",
    "hot.fit(ttest)\n",
    "hot.transform(ttest)\n",
    "\n",
    "\n",
    "#turning categories into numbers (running on the above function):\n",
    "unordered_cats = {'Sex','Embarked','Title','SocialH','CabinLetters','TicketLP','Cabin'}\n",
    "\n",
    "for cat in unordered_cats:\n",
    "    ttrain[cat], ttest[cat] = unorderedcat_to_num(ttrain[cat], ttest[cat])\n",
    "\n",
    "# Separating between features and goal\n",
    "X_train = ttrain[ttrain.columns]\n",
    "y_train = ttrain['Survived']\n",
    "    \n",
    "X_test = ttest[ttest.columns]\n",
    "#y_test = ttnctest[['Survived']]\n",
    "\n",
    "#dropping the dummies realquick (remember from the graphs?)\n",
    "X_train = X_train.drop(columns = dummies.union({'Survived'}))\n",
    "X_test = X_test.drop(columns = dummies)\n",
    "\n",
    "# we start with train and test with all columns, Now we mess around dropping them; perhaps it does something?\n",
    "dropcols = []\n",
    "X_train = X_train.drop(columns=dropcols)\n",
    "X_test = X_test.drop(columns=dropcols)\n",
    "\n",
    "\n",
    "# Splitting OUR train data into train and test so we can evaluate the model:\n",
    "XTRAIN, XTEST, YTRAIN, YTEST = train_test_split(X_train, y_train, test_size = .2)\n",
    "\n",
    "# Instantiating the models:\n",
    "rf = RandomForestClassifier(oob_score = True, n_estimators = 1000,\n",
    "                           min_samples_leaf = 0.01, max_depth = 6, random_state = 0)\n",
    "xgb = GradientBoostingClassifier(learning_rate = .1, max_depth = 4,n_estimators = 100, max_features = 5)\n",
    "lr = LogisticRegression(solver = 'liblinear', C = 100)\n",
    "\n",
    "# Fitting to the dataset and predicting. Note that the predictions are overriding. I will fix that later.\n",
    "classifiers = [rf,xgb,lr]\n",
    "for cla in classifiers:\n",
    "    cla.fit(X_train, y_train)\n",
    "    y_pred[cla] = cla.predict(X_test)\n",
    "    \n",
    "print('Random Forest Classifier Out of Bag Score', rf.oob_score_)\n",
    "\n",
    "# Fitting and predicting again. \n",
    "for cla in classifiers:\n",
    "    cla.fit(XTRAIN, YTRAIN)\n",
    "    YPRED[cla] = cla.predict(XTEST)\n",
    "    print(f'{cla.__class__.__name__} ', accuracy_score(YPRED[cla], YTEST))"
   ]
  },
  {
   "cell_type": "code",
   "execution_count": 39,
   "id": "9774e04b",
   "metadata": {
    "execution": {
     "iopub.execute_input": "2022-03-01T12:36:29.053534Z",
     "iopub.status.busy": "2022-03-01T12:36:29.052761Z",
     "iopub.status.idle": "2022-03-01T12:36:29.074755Z",
     "shell.execute_reply": "2022-03-01T12:36:29.075257Z",
     "shell.execute_reply.started": "2022-03-01T12:30:15.853823Z"
    },
    "papermill": {
     "duration": 0.118253,
     "end_time": "2022-03-01T12:36:29.075440",
     "exception": false,
     "start_time": "2022-03-01T12:36:28.957187",
     "status": "completed"
    },
    "tags": []
   },
   "outputs": [
    {
     "name": "stdout",
     "output_type": "stream",
     "text": [
      "RandomForestClassifier\n",
      "[[101  11]\n",
      " [ 15  52]]\n",
      "              precision    recall  f1-score   support\n",
      "\n",
      "           0       0.87      0.90      0.89       112\n",
      "           1       0.83      0.78      0.80        67\n",
      "\n",
      "    accuracy                           0.85       179\n",
      "   macro avg       0.85      0.84      0.84       179\n",
      "weighted avg       0.85      0.85      0.85       179\n",
      "\n",
      "GradientBoostingClassifier\n",
      "[[99 13]\n",
      " [13 54]]\n",
      "              precision    recall  f1-score   support\n",
      "\n",
      "           0       0.88      0.88      0.88       112\n",
      "           1       0.81      0.81      0.81        67\n",
      "\n",
      "    accuracy                           0.85       179\n",
      "   macro avg       0.84      0.84      0.84       179\n",
      "weighted avg       0.85      0.85      0.85       179\n",
      "\n",
      "LogisticRegression\n",
      "[[99 13]\n",
      " [14 53]]\n",
      "              precision    recall  f1-score   support\n",
      "\n",
      "           0       0.88      0.88      0.88       112\n",
      "           1       0.80      0.79      0.80        67\n",
      "\n",
      "    accuracy                           0.85       179\n",
      "   macro avg       0.84      0.84      0.84       179\n",
      "weighted avg       0.85      0.85      0.85       179\n",
      "\n"
     ]
    }
   ],
   "source": [
    "for cla in classifiers:\n",
    "    print(cla.__class__.__name__)\n",
    "    print(confusion_matrix(y_true = YTEST, y_pred = YPRED[cla]))\n",
    "    print(classification_report(y_true = YTEST, y_pred = YPRED[cla]))"
   ]
  },
  {
   "cell_type": "markdown",
   "id": "ca49eb81",
   "metadata": {
    "papermill": {
     "duration": 0.090379,
     "end_time": "2022-03-01T12:36:29.256306",
     "exception": false,
     "start_time": "2022-03-01T12:36:29.165927",
     "status": "completed"
    },
    "tags": []
   },
   "source": [
    "Feature Importances graph:"
   ]
  },
  {
   "cell_type": "code",
   "execution_count": 40,
   "id": "8bc0afd0",
   "metadata": {
    "execution": {
     "iopub.execute_input": "2022-03-01T12:36:29.442119Z",
     "iopub.status.busy": "2022-03-01T12:36:29.441390Z",
     "iopub.status.idle": "2022-03-01T12:36:30.153501Z",
     "shell.execute_reply": "2022-03-01T12:36:30.154084Z",
     "shell.execute_reply.started": "2022-03-01T12:30:15.876434Z"
    },
    "papermill": {
     "duration": 0.806372,
     "end_time": "2022-03-01T12:36:30.154277",
     "exception": false,
     "start_time": "2022-03-01T12:36:29.347905",
     "status": "completed"
    },
    "tags": []
   },
   "outputs": [
    {
     "data": {
      "image/png": "[encoded data removed]",
      "text/plain": [
       "<Figure size 432x288 with 1 Axes>"
      ]
     },
     "metadata": {
      "needs_background": "light"
     },
     "output_type": "display_data"
    },
    {
     "data": {
      "image/png": "[encoded data removed]",
      "text/plain": [
       "<Figure size 432x288 with 1 Axes>"
      ]
     },
     "metadata": {
      "needs_background": "light"
     },
     "output_type": "display_data"
    },
    {
     "name": "stdout",
     "output_type": "stream",
     "text": [
      "LogisticRegression has no feature importances\n"
     ]
    }
   ],
   "source": [
    "# plotting the feature importances:\n",
    "for cla in classifiers:\n",
    "    try:\n",
    "        sns.barplot(y = X_train.columns, x = cla.feature_importances_)\n",
    "        plt.title(f'{cla.__class__.__name__}')\n",
    "        plt.show()\n",
    "    except:\n",
    "        print(f'{cla.__class__.__name__} has no feature importances')"
   ]
  },
  {
   "cell_type": "markdown",
   "id": "4aae8bf2",
   "metadata": {
    "papermill": {
     "duration": 0.095881,
     "end_time": "2022-03-01T12:36:30.346123",
     "exception": false,
     "start_time": "2022-03-01T12:36:30.250242",
     "status": "completed"
    },
    "tags": []
   },
   "source": [
    "# Looking at correlations to figure out what might be redundant:"
   ]
  },
  {
   "cell_type": "code",
   "execution_count": 41,
   "id": "c94e2736",
   "metadata": {
    "execution": {
     "iopub.execute_input": "2022-03-01T12:36:30.549374Z",
     "iopub.status.busy": "2022-03-01T12:36:30.547823Z",
     "iopub.status.idle": "2022-03-01T12:36:30.552823Z",
     "shell.execute_reply": "2022-03-01T12:36:30.552119Z",
     "shell.execute_reply.started": "2022-03-01T12:30:16.557932Z"
    },
    "papermill": {
     "duration": 0.107792,
     "end_time": "2022-03-01T12:36:30.552999",
     "exception": false,
     "start_time": "2022-03-01T12:36:30.445207",
     "status": "completed"
    },
    "tags": []
   },
   "outputs": [],
   "source": [
    "#ttrain.corr()"
   ]
  },
  {
   "cell_type": "code",
   "execution_count": 42,
   "id": "d74e4391",
   "metadata": {
    "execution": {
     "iopub.execute_input": "2022-03-01T12:36:30.756834Z",
     "iopub.status.busy": "2022-03-01T12:36:30.756103Z",
     "iopub.status.idle": "2022-03-01T12:36:31.217617Z",
     "shell.execute_reply": "2022-03-01T12:36:31.217033Z",
     "shell.execute_reply.started": "2022-03-01T12:30:16.595367Z"
    },
    "papermill": {
     "duration": 0.566793,
     "end_time": "2022-03-01T12:36:31.217812",
     "exception": false,
     "start_time": "2022-03-01T12:36:30.651019",
     "status": "completed"
    },
    "tags": []
   },
   "outputs": [
    {
     "data": {
      "image/png": "[encoded data removed]",
      "text/plain": [
       "<Figure size 432x288 with 2 Axes>"
      ]
     },
     "metadata": {
      "needs_background": "light"
     },
     "output_type": "display_data"
    }
   ],
   "source": [
    "sns.heatmap(data = ttrain.corr())\n",
    "plt.show()"
   ]
  },
  {
   "cell_type": "code",
   "execution_count": 43,
   "id": "bdfc5f12",
   "metadata": {
    "execution": {
     "iopub.execute_input": "2022-03-01T12:36:31.422612Z",
     "iopub.status.busy": "2022-03-01T12:36:31.421899Z",
     "iopub.status.idle": "2022-03-01T12:36:31.430288Z",
     "shell.execute_reply": "2022-03-01T12:36:31.429691Z",
     "shell.execute_reply.started": "2022-03-01T12:30:16.991411Z"
    },
    "papermill": {
     "duration": 0.114331,
     "end_time": "2022-03-01T12:36:31.430511",
     "exception": false,
     "start_time": "2022-03-01T12:36:31.316180",
     "status": "completed"
    },
    "tags": []
   },
   "outputs": [
    {
     "data": {
      "text/plain": [
       "PassengerId         -0.057527\n",
       "Survived            -0.035322\n",
       "Pclass               0.083081\n",
       "Sex                 -0.114631\n",
       "Age                 -0.233296\n",
       "SibSp                1.000000\n",
       "Parch                0.414838\n",
       "Fare                 0.159651\n",
       "Cabin                0.043525\n",
       "Embarked             0.068043\n",
       "Title               -0.200046\n",
       "SocialH             -0.254618\n",
       "TicketLP             0.021284\n",
       "NCabins              0.012150\n",
       "CabinLetters         0.047273\n",
       "HasCabin            -0.040460\n",
       "HasApoName          -0.020319\n",
       "HasParName           0.042196\n",
       "DeadFamilyMembers    0.712545\n",
       "FareWasMissing            NaN\n",
       "AgeWasMissing        0.018958\n",
       "Name: SibSp, dtype: float64"
      ]
     },
     "execution_count": 43,
     "metadata": {},
     "output_type": "execute_result"
    }
   ],
   "source": [
    "ttrain.corr()['SibSp']"
   ]
  },
  {
   "cell_type": "markdown",
   "id": "2445410b",
   "metadata": {
    "papermill": {
     "duration": 0.096137,
     "end_time": "2022-03-01T12:36:31.625824",
     "exception": false,
     "start_time": "2022-03-01T12:36:31.529687",
     "status": "completed"
    },
    "tags": []
   },
   "source": [
    "# Hyperparameter Tuning:"
   ]
  },
  {
   "cell_type": "code",
   "execution_count": 44,
   "id": "9bd56da5",
   "metadata": {
    "execution": {
     "iopub.execute_input": "2022-03-01T12:36:31.828885Z",
     "iopub.status.busy": "2022-03-01T12:36:31.828128Z",
     "iopub.status.idle": "2022-03-01T12:36:31.833749Z",
     "shell.execute_reply": "2022-03-01T12:36:31.832999Z",
     "shell.execute_reply.started": "2022-03-01T12:30:17.005240Z"
    },
    "papermill": {
     "duration": 0.111086,
     "end_time": "2022-03-01T12:36:31.833921",
     "exception": false,
     "start_time": "2022-03-01T12:36:31.722835",
     "status": "completed"
    },
    "tags": []
   },
   "outputs": [
    {
     "data": {
      "text/plain": [
       "dict_keys(['bootstrap', 'ccp_alpha', 'class_weight', 'criterion', 'max_depth', 'max_features', 'max_leaf_nodes', 'max_samples', 'min_impurity_decrease', 'min_impurity_split', 'min_samples_leaf', 'min_samples_split', 'min_weight_fraction_leaf', 'n_estimators', 'n_jobs', 'oob_score', 'random_state', 'verbose', 'warm_start'])"
      ]
     },
     "execution_count": 44,
     "metadata": {},
     "output_type": "execute_result"
    }
   ],
   "source": [
    "rf.get_params().keys()"
   ]
  },
  {
   "cell_type": "code",
   "execution_count": 45,
   "id": "0bbd40e4",
   "metadata": {
    "execution": {
     "iopub.execute_input": "2022-03-01T12:36:32.056411Z",
     "iopub.status.busy": "2022-03-01T12:36:32.055465Z",
     "iopub.status.idle": "2022-03-01T12:37:27.073821Z",
     "shell.execute_reply": "2022-03-01T12:37:27.074332Z",
     "shell.execute_reply.started": "2022-03-01T12:30:17.012062Z"
    },
    "papermill": {
     "duration": 55.135034,
     "end_time": "2022-03-01T12:37:27.074543",
     "exception": false,
     "start_time": "2022-03-01T12:36:31.939509",
     "status": "completed"
    },
    "tags": []
   },
   "outputs": [
    {
     "name": "stdout",
     "output_type": "stream",
     "text": [
      "Fitting 5 folds for each of 9 candidates, totalling 45 fits\n"
     ]
    },
    {
     "name": "stderr",
     "output_type": "stream",
     "text": [
      "[Parallel(n_jobs=-1)]: Using backend LokyBackend with 4 concurrent workers.\n",
      "[Parallel(n_jobs=-1)]: Done  45 out of  45 | elapsed:   52.0s finished\n"
     ]
    },
    {
     "data": {
      "text/plain": [
       "{'max_depth': 6, 'min_samples_leaf': 0.001}"
      ]
     },
     "execution_count": 45,
     "metadata": {},
     "output_type": "execute_result"
    }
   ],
   "source": [
    "#hyperparameter tuning random forest:\n",
    "gscvrf = GridSearchCV(verbose = 1, n_jobs = -1, estimator = rf, param_grid = {'max_depth':[2,4,6],'min_samples_leaf':[.001, .2,.4]})\n",
    "\n",
    "gscvrf.fit(X_train,y_train)\n",
    "y_pred[gscvrf] = gscvrf.predict(X_test)\n",
    "gscvrf.best_params_\n"
   ]
  },
  {
   "cell_type": "code",
   "execution_count": 46,
   "id": "3c057345",
   "metadata": {
    "execution": {
     "iopub.execute_input": "2022-03-01T12:37:27.295310Z",
     "iopub.status.busy": "2022-03-01T12:37:27.294453Z",
     "iopub.status.idle": "2022-03-01T12:37:27.298673Z",
     "shell.execute_reply": "2022-03-01T12:37:27.298054Z",
     "shell.execute_reply.started": "2022-03-01T12:31:05.272697Z"
    },
    "papermill": {
     "duration": 0.114626,
     "end_time": "2022-03-01T12:37:27.298863",
     "exception": false,
     "start_time": "2022-03-01T12:37:27.184237",
     "status": "completed"
    },
    "tags": []
   },
   "outputs": [
    {
     "data": {
      "text/plain": [
       "dict_keys(['ccp_alpha', 'criterion', 'init', 'learning_rate', 'loss', 'max_depth', 'max_features', 'max_leaf_nodes', 'min_impurity_decrease', 'min_impurity_split', 'min_samples_leaf', 'min_samples_split', 'min_weight_fraction_leaf', 'n_estimators', 'n_iter_no_change', 'presort', 'random_state', 'subsample', 'tol', 'validation_fraction', 'verbose', 'warm_start'])"
      ]
     },
     "execution_count": 46,
     "metadata": {},
     "output_type": "execute_result"
    }
   ],
   "source": [
    "xgb.get_params().keys()"
   ]
  },
  {
   "cell_type": "code",
   "execution_count": 47,
   "id": "258a0008",
   "metadata": {
    "execution": {
     "iopub.execute_input": "2022-03-01T12:37:27.521116Z",
     "iopub.status.busy": "2022-03-01T12:37:27.520226Z",
     "iopub.status.idle": "2022-03-01T12:37:27.524267Z",
     "shell.execute_reply": "2022-03-01T12:37:27.524908Z",
     "shell.execute_reply.started": "2022-03-01T12:31:05.280324Z"
    },
    "papermill": {
     "duration": 0.115244,
     "end_time": "2022-03-01T12:37:27.525115",
     "exception": false,
     "start_time": "2022-03-01T12:37:27.409871",
     "status": "completed"
    },
    "tags": []
   },
   "outputs": [
    {
     "data": {
      "text/plain": [
       "array([ 5,  7,  9, 11, 13, 15, 17])"
      ]
     },
     "execution_count": 47,
     "metadata": {},
     "output_type": "execute_result"
    }
   ],
   "source": [
    "np.arange(5,xgb.n_features_, 2)"
   ]
  },
  {
   "cell_type": "code",
   "execution_count": 48,
   "id": "4e988f5a",
   "metadata": {
    "execution": {
     "iopub.execute_input": "2022-03-01T12:37:27.743946Z",
     "iopub.status.busy": "2022-03-01T12:37:27.742950Z",
     "iopub.status.idle": "2022-03-01T12:38:00.450376Z",
     "shell.execute_reply": "2022-03-01T12:38:00.449779Z",
     "shell.execute_reply.started": "2022-03-01T12:31:05.292892Z"
    },
    "papermill": {
     "duration": 32.813145,
     "end_time": "2022-03-01T12:38:00.450530",
     "exception": false,
     "start_time": "2022-03-01T12:37:27.637385",
     "status": "completed"
    },
    "tags": []
   },
   "outputs": [
    {
     "name": "stdout",
     "output_type": "stream",
     "text": [
      "Fitting 5 folds for each of 84 candidates, totalling 420 fits\n"
     ]
    },
    {
     "name": "stderr",
     "output_type": "stream",
     "text": [
      "[Parallel(n_jobs=-1)]: Using backend LokyBackend with 4 concurrent workers.\n",
      "[Parallel(n_jobs=-1)]: Done  76 tasks      | elapsed:    4.8s\n",
      "[Parallel(n_jobs=-1)]: Done 244 tasks      | elapsed:   17.7s\n",
      "[Parallel(n_jobs=-1)]: Done 420 out of 420 | elapsed:   32.4s finished\n"
     ]
    },
    {
     "data": {
      "text/plain": [
       "{'learning_rate': 0.1, 'max_depth': 4, 'max_features': 17, 'n_estimators': 100}"
      ]
     },
     "execution_count": 48,
     "metadata": {},
     "output_type": "execute_result"
    }
   ],
   "source": [
    "#parameter tuning xgb:\n",
    "params = {\n",
    "    'learning_rate':[.01,.1,.2,.3],\n",
    "    'max_depth':[2,4,6],\n",
    "    'n_estimators': [100],\n",
    "    'max_features': np.arange(5, xgb.n_features_, 2)\n",
    "}\n",
    "gscvxgb = GridSearchCV(verbose = 1, n_jobs = -1, estimator = xgb, param_grid = params)\n",
    "gscvxgb.fit(X_train,y_train)\n",
    "y_pred[gscvxgb] = gscvxgb.predict(X_test)\n",
    "gscvxgb.best_params_"
   ]
  },
  {
   "cell_type": "code",
   "execution_count": 49,
   "id": "4ae2806f",
   "metadata": {
    "execution": {
     "iopub.execute_input": "2022-03-01T12:38:00.652364Z",
     "iopub.status.busy": "2022-03-01T12:38:00.651679Z",
     "iopub.status.idle": "2022-03-01T12:38:00.836371Z",
     "shell.execute_reply": "2022-03-01T12:38:00.837126Z",
     "shell.execute_reply.started": "2022-03-01T12:31:33.773770Z"
    },
    "papermill": {
     "duration": 0.287181,
     "end_time": "2022-03-01T12:38:00.837349",
     "exception": false,
     "start_time": "2022-03-01T12:38:00.550168",
     "status": "completed"
    },
    "tags": []
   },
   "outputs": [
    {
     "name": "stdout",
     "output_type": "stream",
     "text": [
      "Fitting 5 folds for each of 5 candidates, totalling 25 fits\n"
     ]
    },
    {
     "name": "stderr",
     "output_type": "stream",
     "text": [
      "[Parallel(n_jobs=-1)]: Using backend LokyBackend with 4 concurrent workers.\n",
      "[Parallel(n_jobs=-1)]: Done  18 out of  25 | elapsed:    0.1s remaining:    0.0s\n",
      "[Parallel(n_jobs=-1)]: Done  25 out of  25 | elapsed:    0.2s finished\n"
     ]
    },
    {
     "data": {
      "text/plain": [
       "{'C': 1}"
      ]
     },
     "execution_count": 49,
     "metadata": {},
     "output_type": "execute_result"
    }
   ],
   "source": [
    "#hyperparameter tuning LogisticRegression:\n",
    "gscvlr = GridSearchCV(verbose = 1, n_jobs = -1, estimator = lr, param_grid = {'C': [.01,.1,1,10,100]})\n",
    "\n",
    "gscvlr.fit(X_train,y_train)\n",
    "y_pred[gscvlr] = gscvlr.predict(X_test)\n",
    "gscvlr.best_params_"
   ]
  },
  {
   "cell_type": "markdown",
   "id": "6809d6a9",
   "metadata": {
    "papermill": {
     "duration": 0.102981,
     "end_time": "2022-03-01T12:38:01.045867",
     "exception": false,
     "start_time": "2022-03-01T12:38:00.942886",
     "status": "completed"
    },
    "tags": []
   },
   "source": [
    "idk"
   ]
  },
  {
   "cell_type": "code",
   "execution_count": 50,
   "id": "6bd72d32",
   "metadata": {
    "execution": {
     "iopub.execute_input": "2022-03-01T12:38:01.253114Z",
     "iopub.status.busy": "2022-03-01T12:38:01.252430Z",
     "iopub.status.idle": "2022-03-01T12:38:01.262877Z",
     "shell.execute_reply": "2022-03-01T12:38:01.263362Z",
     "shell.execute_reply.started": "2022-03-01T12:31:33.935022Z"
    },
    "papermill": {
     "duration": 0.115739,
     "end_time": "2022-03-01T12:38:01.263551",
     "exception": false,
     "start_time": "2022-03-01T12:38:01.147812",
     "status": "completed"
    },
    "tags": []
   },
   "outputs": [
    {
     "name": "stdout",
     "output_type": "stream",
     "text": [
      "done\n"
     ]
    }
   ],
   "source": [
    "# Saving the predictions into a csv according to competition model\n",
    "result = pd.DataFrame({'PassengerId': ttest['PassengerId'],'Survived':y_pred[xgb]})\n",
    "result.to_csv('submission.csv', index = False)\n",
    "print('done')"
   ]
  },
  {
   "cell_type": "markdown",
   "id": "50e8e54a",
   "metadata": {
    "papermill": {
     "duration": 0.103502,
     "end_time": "2022-03-01T12:38:01.469949",
     "exception": false,
     "start_time": "2022-03-01T12:38:01.366447",
     "status": "completed"
    },
    "tags": []
   },
   "source": []
  }
 ],
 "metadata": {
  "kernelspec": {
   "display_name": "Python 3",
   "language": "python",
   "name": "python3"
  },
  "language_info": {
   "codemirror_mode": {
    "name": "ipython",
    "version": 3
   },
   "file_extension": ".py",
   "mimetype": "text/x-python",
   "name": "python",
   "nbconvert_exporter": "python",
   "pygments_lexer": "ipython3",
   "version": "3.7.12"
  },
  "papermill": {
   "default_parameters": {},
   "duration": 135.033221,
   "end_time": "2022-03-01T12:38:02.486926",
   "environment_variables": {},
   "exception": null,
   "input_path": "__notebook__.ipynb",
   "output_path": "__notebook__.ipynb",
   "parameters": {},
   "start_time": "2022-03-01T12:35:47.453705",
   "version": "2.3.3"
  }
 },
 "nbformat": 4,
 "nbformat_minor": 5
}
